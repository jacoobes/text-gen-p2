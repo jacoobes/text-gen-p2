{
 "cells": [
  {
   "cell_type": "code",
   "execution_count": 3,
   "id": "cfb90483-32f9-48b2-86b9-5b6eae9ee7a2",
   "metadata": {},
   "outputs": [],
   "source": [
    "import io\n",
    "#npx degit jghawaly/CSC7809_FoundationModels/Project2/data/raw raw/                             \n",
    "import os, glob\n",
    "from typing import Tuple\n",
    "import numpy as np\n",
    "import torch\n",
    "import numpy as np\n",
    "from functools import reduce\n",
    "import sentencepiece as spm\n",
    "import torch\n",
    "from torch.utils.data import Dataset, DataLoader\n",
    "from torch.autograd import Variable\n",
    "from torch.nn import CrossEntropyLoss\n",
    "from torch.optim import AdamW, lr_scheduler\n",
    "from torcheval.metrics.metric import Metric\n",
    "from torcheval.metrics.text import Perplexity, BLEUScore\n",
    "import json\n",
    "from tqdm import tqdm\n",
    "from datetime import datetime\n",
    "from word_prediction import TokenizedDataset, read_jsonl, add_special_token, training_kit\n",
    "from models import RNNModel"
   ]
  },
  {
   "cell_type": "code",
   "execution_count": 4,
   "id": "e5c9f3e0-c8bf-4f0e-83bb-6b7409c56cc8",
   "metadata": {},
   "outputs": [],
   "source": [
    "tokenizer_location = \"bptokenizer.model\"\n",
    "training_data = read_jsonl('./data/train.jsonl')\n",
    "testing_data = read_jsonl('./data/test.jsonl')\n",
    "sp = spm.SentencePieceProcessor(tokenizer_location)\n",
    "\n",
    "hidden_size = 128  # Number of hidden units\n",
    "output_size = sp.GetPieceSize() # Output dimension\n",
    "seq_len = 30  # Length of the input sequence\n",
    "batch_size = 256  # Number of sequences in a batch\n",
    "embed_dim = 1024"
   ]
  },
  {
   "cell_type": "code",
   "execution_count": 5,
   "id": "e9c86075-921d-4818-98cb-6792c876e593",
   "metadata": {},
   "outputs": [
    {
     "name": "stdout",
     "output_type": "stream",
     "text": [
      "torch cuda is_available\n"
     ]
    }
   ],
   "source": [
    "def read_jsonl(pat):\n",
    "    with open(pat, 'r') as f:\n",
    "        data = [json.loads(line) for line in f]\n",
    "    return data\n",
    "def add_special_token(prompt, completion):\n",
    "    # If the beginning of the prompt is upper case, then we assume it is the start of a sequence\n",
    "    if prompt[0].isupper():\n",
    "        prompt = '<bos>' + prompt\n",
    "    # If the end of the completion is a terminating punctuation, then we assume it is the end of a sequence\n",
    "    if completion.endswith('.') or completion.endswith('?') or completion.endswith('!'):\n",
    "        completion += '<eos>'\n",
    "    return  prompt, completion\n",
    "    \n",
    "def mkcollation(pad_id):\n",
    "    def collate(batch):\n",
    "        input_batch, target_batch = zip(*batch)\n",
    "        input_batch = torch.nn.utils.rnn.pad_sequence(input_batch, batch_first=True, padding_value=pad_id)\n",
    "        target_batch = torch.nn.utils.rnn.pad_sequence(target_batch, batch_first=True, padding_value=pad_id)\n",
    "        return input_batch, target_batch\n",
    "    return collate\n",
    "\n",
    "def evaluate_perplexity(model, perplexity_metric, data_loader, device):\n",
    "    hidden = model.init_hidden(model.batch_size)\n",
    "    with torch.no_grad():\n",
    "        for inputs, labels in data_loader:\n",
    "            inputs = inputs.to(device)\n",
    "            labels = labels.to(device)\n",
    "            # Initialize hidden state for this batch\n",
    "            # Forward pass through the model\n",
    "            logits, hidden = model(inputs, hidden)\n",
    "            perplexity_metric.update(logits, labels)\n",
    "            #print(perplexity_metric.compute().item())\n",
    "    \n",
    "    # Compute perplexity: torcheval.Perplexity returns exp(avg_loss)\n",
    "    ppl = perplexity_metric.compute().item()\n",
    "    return ppl\n",
    "\n",
    "\n",
    "\n",
    "if torch.cuda.is_available():\n",
    "    print('torch cuda is_available')\n",
    "    device = torch.device('cuda')          # Use GPU\n",
    "else:\n",
    "    print('torch cuda not is_available')\n",
    "    device = torch.device('cpu')           # Use CPU\n",
    "    \n",
    "metrics = {\n",
    "    'perp': Perplexity(ignore_index=sp.pad_id()).to(device),\n",
    "    'bleu': BLEUScore(n_gram=3).to(device)\n",
    "}\n"
   ]
  },
  {
   "cell_type": "code",
   "execution_count": 6,
   "id": "13786207-0e85-4f24-a102-83928c277486",
   "metadata": {},
   "outputs": [],
   "source": [
    "collation = mkcollation(sp.pad_id())\n",
    " \n",
    "training_loader = DataLoader(\n",
    "    TokenizedDataset(training_data, sp, seq_len),\n",
    "    batch_size=batch_size,\n",
    "    shuffle=True,\n",
    "    drop_last=True,\n",
    "\n",
    "    collate_fn=collation\n",
    ") \n",
    "valset, testset = torch.utils.data.random_split(TokenizedDataset(testing_data, sp, seq_len), [.8, .2])\n",
    "validation_loader = DataLoader(\n",
    "    valset,\n",
    "    drop_last=True,\n",
    "    shuffle=False,\n",
    "    batch_size=batch_size,\n",
    "    collate_fn=collation\n",
    ")\n",
    "\n",
    "test_loader = DataLoader(\n",
    "    testset,\n",
    "    shuffle=False,\n",
    "    drop_last=True,\n",
    "    batch_size=batch_size,\n",
    "    collate_fn=collation\n",
    ")"
   ]
  },
  {
   "cell_type": "code",
   "execution_count": 7,
   "id": "a8d7f101-61b5-41cc-8636-5ae778db1824",
   "metadata": {},
   "outputs": [],
   "source": [
    "model = RNNModel(embed_dim=embed_dim,\n",
    "                 hidden_size=hidden_size,\n",
    "                 output_size=output_size,\n",
    "                 batch_size=batch_size,\n",
    "                 n_layers=3,\n",
    "                 device=device,\n",
    "                 tokenizer=sp,\n",
    "                 name=\"rnn\").to(device)\n",
    "trainkit = training_kit(params=model.parameters(),\n",
    "                        lr=0.001,\n",
    "                        weight_decay=0.01,\n",
    "                        epochs=30,\n",
    "                        dataloader=training_loader,\n",
    "                        valloader=validation_loader,\n",
    "                        batch_size=batch_size)"
   ]
  },
  {
   "cell_type": "code",
   "execution_count": 6,
   "id": "ad23f07f-24e3-4321-ac4b-dc01c2b3bec9",
   "metadata": {},
   "outputs": [
    {
     "name": "stderr",
     "output_type": "stream",
     "text": [
      "  3%|████▊                                                                                                                                             | 1/30 [00:06<03:07,  6.45s/it]"
     ]
    },
    {
     "name": "stdout",
     "output_type": "stream",
     "text": [
      "numbers = (avg loss 6.886989407725149 avgval 6.526185290018717 bestval 1000000.0)\n",
      "patience reset\n"
     ]
    },
    {
     "name": "stderr",
     "output_type": "stream",
     "text": [
      "  7%|█████████▋                                                                                                                                        | 2/30 [00:12<02:54,  6.22s/it]"
     ]
    },
    {
     "name": "stdout",
     "output_type": "stream",
     "text": [
      "numbers = (avg loss 6.400496532390644 avgval 6.236425749460856 bestval 6.526185290018717)\n",
      "patience reset\n"
     ]
    },
    {
     "name": "stderr",
     "output_type": "stream",
     "text": [
      " 10%|██████████████▌                                                                                                                                   | 3/30 [00:18<02:44,  6.11s/it]"
     ]
    },
    {
     "name": "stdout",
     "output_type": "stream",
     "text": [
      "numbers = (avg loss 6.068753326093995 avgval 5.881579319636027 bestval 6.236425749460856)\n",
      "patience reset\n"
     ]
    },
    {
     "name": "stderr",
     "output_type": "stream",
     "text": [
      " 13%|███████████████████▍                                                                                                                              | 4/30 [00:24<02:37,  6.06s/it]"
     ]
    },
    {
     "name": "stdout",
     "output_type": "stream",
     "text": [
      "numbers = (avg loss 5.824108517015135 avgval 5.711860990524292 bestval 5.881579319636027)\n",
      "patience reset\n"
     ]
    },
    {
     "name": "stderr",
     "output_type": "stream",
     "text": [
      " 17%|████████████████████████▎                                                                                                                         | 5/30 [00:30<02:31,  6.05s/it]"
     ]
    },
    {
     "name": "stdout",
     "output_type": "stream",
     "text": [
      "numbers = (avg loss 5.69411995194175 avgval 5.610117769241333 bestval 5.711860990524292)\n",
      "patience reset\n"
     ]
    },
    {
     "name": "stderr",
     "output_type": "stream",
     "text": [
      " 20%|█████████████████████████████▏                                                                                                                    | 6/30 [00:36<02:25,  6.04s/it]"
     ]
    },
    {
     "name": "stdout",
     "output_type": "stream",
     "text": [
      "numbers = (avg loss 5.606416355479848 avgval 5.53872226079305 bestval 5.610117769241333)\n",
      "patience reset\n"
     ]
    },
    {
     "name": "stderr",
     "output_type": "stream",
     "text": [
      " 23%|██████████████████████████████████                                                                                                                | 7/30 [00:42<02:19,  6.08s/it]"
     ]
    },
    {
     "name": "stdout",
     "output_type": "stream",
     "text": [
      "numbers = (avg loss 5.54155969619751 avgval 5.486472924550374 bestval 5.53872226079305)\n",
      "patience reset\n"
     ]
    },
    {
     "name": "stderr",
     "output_type": "stream",
     "text": [
      " 27%|██████████████████████████████████████▉                                                                                                           | 8/30 [00:48<02:13,  6.07s/it]"
     ]
    },
    {
     "name": "stdout",
     "output_type": "stream",
     "text": [
      "numbers = (avg loss 5.489155304896367 avgval 5.4400443236033125 bestval 5.486472924550374)\n",
      "patience reset\n"
     ]
    },
    {
     "name": "stderr",
     "output_type": "stream",
     "text": [
      " 30%|███████████████████████████████████████████▊                                                                                                      | 9/30 [00:54<02:07,  6.08s/it]"
     ]
    },
    {
     "name": "stdout",
     "output_type": "stream",
     "text": [
      "numbers = (avg loss 5.443479599890771 avgval 5.402062638600667 bestval 5.4400443236033125)\n",
      "patience reset\n"
     ]
    },
    {
     "name": "stderr",
     "output_type": "stream",
     "text": [
      " 33%|████████████████████████████████████████████████▎                                                                                                | 10/30 [01:00<02:01,  6.08s/it]"
     ]
    },
    {
     "name": "stdout",
     "output_type": "stream",
     "text": [
      "numbers = (avg loss 5.405171047557484 avgval 5.369590584437052 bestval 5.402062638600667)\n",
      "patience reset\n"
     ]
    },
    {
     "name": "stderr",
     "output_type": "stream",
     "text": [
      " 37%|█████████████████████████████████████████████████████▏                                                                                           | 11/30 [01:07<01:55,  6.09s/it]"
     ]
    },
    {
     "name": "stdout",
     "output_type": "stream",
     "text": [
      "numbers = (avg loss 5.372545626256373 avgval 5.344980955123901 bestval 5.369590584437052)\n",
      "patience reset\n"
     ]
    },
    {
     "name": "stderr",
     "output_type": "stream",
     "text": [
      " 40%|██████████████████████████████████████████████████████████                                                                                       | 12/30 [01:13<01:49,  6.10s/it]"
     ]
    },
    {
     "name": "stdout",
     "output_type": "stream",
     "text": [
      "numbers = (avg loss 5.344207859658575 avgval 5.318997859954834 bestval 5.344980955123901)\n",
      "patience reset\n"
     ]
    },
    {
     "name": "stderr",
     "output_type": "stream",
     "text": [
      " 43%|██████████████████████████████████████████████████████████████▊                                                                                  | 13/30 [01:19<01:44,  6.14s/it]"
     ]
    },
    {
     "name": "stdout",
     "output_type": "stream",
     "text": [
      "numbers = (avg loss 5.317975932901556 avgval 5.2993572870890295 bestval 5.318997859954834)\n",
      "patience reset\n"
     ]
    },
    {
     "name": "stderr",
     "output_type": "stream",
     "text": [
      " 47%|███████████████████████████████████████████████████████████████████▋                                                                             | 14/30 [01:25<01:38,  6.15s/it]"
     ]
    },
    {
     "name": "stdout",
     "output_type": "stream",
     "text": [
      "numbers = (avg loss 5.294497527085341 avgval 5.280812295277913 bestval 5.2993572870890295)\n",
      "patience reset\n"
     ]
    },
    {
     "name": "stderr",
     "output_type": "stream",
     "text": [
      " 50%|████████████████████████████████████████████████████████████████████████▌                                                                        | 15/30 [01:31<01:32,  6.16s/it]"
     ]
    },
    {
     "name": "stdout",
     "output_type": "stream",
     "text": [
      "numbers = (avg loss 5.272964712861296 avgval 5.265634187062582 bestval 5.280812295277913)\n",
      "patience reset\n"
     ]
    },
    {
     "name": "stderr",
     "output_type": "stream",
     "text": [
      " 53%|█████████████████████████████████████████████████████████████████████████████▎                                                                   | 16/30 [01:37<01:26,  6.17s/it]"
     ]
    },
    {
     "name": "stdout",
     "output_type": "stream",
     "text": [
      "numbers = (avg loss 5.255291347379808 avgval 5.251384083429972 bestval 5.265634187062582)\n",
      "patience reset\n"
     ]
    },
    {
     "name": "stderr",
     "output_type": "stream",
     "text": [
      " 57%|██████████████████████████████████████████████████████████████████████████████████▏                                                              | 17/30 [01:44<01:20,  6.18s/it]"
     ]
    },
    {
     "name": "stdout",
     "output_type": "stream",
     "text": [
      "numbers = (avg loss 5.236911745814534 avgval 5.238362121582031 bestval 5.251384083429972)\n",
      "patience reset\n"
     ]
    },
    {
     "name": "stderr",
     "output_type": "stream",
     "text": [
      " 60%|███████████████████████████████████████████████████████████████████████████████████████                                                          | 18/30 [01:50<01:14,  6.22s/it]"
     ]
    },
    {
     "name": "stdout",
     "output_type": "stream",
     "text": [
      "numbers = (avg loss 5.2196131960138095 avgval 5.228541994094849 bestval 5.238362121582031)\n",
      "patience reset\n"
     ]
    },
    {
     "name": "stderr",
     "output_type": "stream",
     "text": [
      " 63%|███████████████████████████████████████████████████████████████████████████████████████████▊                                                     | 19/30 [01:56<01:08,  6.22s/it]"
     ]
    },
    {
     "name": "stdout",
     "output_type": "stream",
     "text": [
      "numbers = (avg loss 5.204919143156572 avgval 5.218876187006632 bestval 5.228541994094849)\n",
      "patience reset\n"
     ]
    },
    {
     "name": "stderr",
     "output_type": "stream",
     "text": [
      " 67%|████████████████████████████████████████████████████████████████████████████████████████████████▋                                                | 20/30 [02:02<01:02,  6.21s/it]"
     ]
    },
    {
     "name": "stdout",
     "output_type": "stream",
     "text": [
      "numbers = (avg loss 5.191319019763501 avgval 5.208753299713135 bestval 5.218876187006632)\n",
      "patience reset\n"
     ]
    },
    {
     "name": "stderr",
     "output_type": "stream",
     "text": [
      " 70%|█████████████████████████████████████████████████████████████████████████████████████████████████████▌                                           | 21/30 [02:09<00:55,  6.21s/it]"
     ]
    },
    {
     "name": "stdout",
     "output_type": "stream",
     "text": [
      "numbers = (avg loss 5.176088559163081 avgval 5.197479486465454 bestval 5.208753299713135)\n",
      "patience reset\n"
     ]
    },
    {
     "name": "stderr",
     "output_type": "stream",
     "text": [
      " 73%|██████████████████████████████████████████████████████████████████████████████████████████████████████████▎                                      | 22/30 [02:15<00:49,  6.22s/it]"
     ]
    },
    {
     "name": "stdout",
     "output_type": "stream",
     "text": [
      "numbers = (avg loss 5.164645743060421 avgval 5.193452787399292 bestval 5.197479486465454)\n",
      "patience reset\n"
     ]
    },
    {
     "name": "stderr",
     "output_type": "stream",
     "text": [
      " 77%|███████████████████████████████████████████████████████████████████████████████████████████████████████████████▏                                 | 23/30 [02:21<00:43,  6.26s/it]"
     ]
    },
    {
     "name": "stdout",
     "output_type": "stream",
     "text": [
      "numbers = (avg loss 5.152820605736275 avgval 5.182745393117269 bestval 5.193452787399292)\n",
      "patience reset\n"
     ]
    },
    {
     "name": "stderr",
     "output_type": "stream",
     "text": [
      " 80%|████████████████████████████████████████████████████████████████████████████████████████████████████████████████████                             | 24/30 [02:27<00:37,  6.26s/it]"
     ]
    },
    {
     "name": "stdout",
     "output_type": "stream",
     "text": [
      "numbers = (avg loss 5.141551921894024 avgval 5.175314696629842 bestval 5.182745393117269)\n",
      "patience reset\n"
     ]
    },
    {
     "name": "stderr",
     "output_type": "stream",
     "text": [
      " 83%|████████████████████████████████████████████████████████████████████████████████████████████████████████████████████████▊                        | 25/30 [02:34<00:31,  6.25s/it]"
     ]
    },
    {
     "name": "stdout",
     "output_type": "stream",
     "text": [
      "numbers = (avg loss 5.13089800190616 avgval 5.16932832400004 bestval 5.175314696629842)\n",
      "patience reset\n"
     ]
    },
    {
     "name": "stderr",
     "output_type": "stream",
     "text": [
      " 87%|█████████████████████████████████████████████████████████████████████████████████████████████████████████████████████████████▋                   | 26/30 [02:40<00:25,  6.26s/it]"
     ]
    },
    {
     "name": "stdout",
     "output_type": "stream",
     "text": [
      "numbers = (avg loss 5.121647878126665 avgval 5.162790473302206 bestval 5.16932832400004)\n",
      "patience reset\n"
     ]
    },
    {
     "name": "stderr",
     "output_type": "stream",
     "text": [
      " 90%|██████████████████████████████████████████████████████████████████████████████████████████████████████████████████████████████████▌              | 27/30 [02:46<00:18,  6.26s/it]"
     ]
    },
    {
     "name": "stdout",
     "output_type": "stream",
     "text": [
      "numbers = (avg loss 5.111646450959243 avgval 5.157644160588583 bestval 5.162790473302206)\n",
      "patience reset\n"
     ]
    },
    {
     "name": "stderr",
     "output_type": "stream",
     "text": [
      " 93%|███████████████████████████████████████████████████████████████████████████████████████████████████████████████████████████████████████▎         | 28/30 [02:52<00:12,  6.27s/it]"
     ]
    },
    {
     "name": "stdout",
     "output_type": "stream",
     "text": [
      "numbers = (avg loss 5.10239077233649 avgval 5.151652860641479 bestval 5.157644160588583)\n",
      "patience reset\n"
     ]
    },
    {
     "name": "stderr",
     "output_type": "stream",
     "text": [
      " 97%|████████████████████████████████████████████████████████████████████████████████████████████████████████████████████████████████████████████▏    | 29/30 [02:59<00:06,  6.30s/it]"
     ]
    },
    {
     "name": "stdout",
     "output_type": "stream",
     "text": [
      "numbers = (avg loss 5.093950132270912 avgval 5.145278437932332 bestval 5.151652860641479)\n",
      "patience reset\n"
     ]
    },
    {
     "name": "stderr",
     "output_type": "stream",
     "text": [
      "100%|█████████████████████████████████████████████████████████████████████████████████████████████████████████████████████████████████████████████████| 30/30 [03:05<00:00,  6.19s/it]"
     ]
    },
    {
     "name": "stdout",
     "output_type": "stream",
     "text": [
      "numbers = (avg loss 5.084674088985889 avgval 5.142538324991862 bestval 5.145278437932332)\n",
      "patience reset\n"
     ]
    },
    {
     "name": "stderr",
     "output_type": "stream",
     "text": [
      "\n"
     ]
    }
   ],
   "source": [
    "training_loss, validation_loss = model.reps(trainkit)"
   ]
  },
  {
   "cell_type": "code",
   "execution_count": 9,
   "id": "80ded6c7-68bf-46b8-9c95-5a90aaf844a5",
   "metadata": {},
   "outputs": [],
   "source": [
    "import matplotlib as plt\n",
    "import matplotlib.pyplot as plt"
   ]
  },
  {
   "cell_type": "code",
   "execution_count": 10,
   "id": "d137e38b-5bbd-454d-b542-68e52fc954e5",
   "metadata": {},
   "outputs": [
    {
     "data": {
      "text/plain": [
       "<matplotlib.legend.Legend at 0x7e7986192ab0>"
      ]
     },
     "execution_count": 10,
     "metadata": {},
     "output_type": "execute_result"
    },
    {
     "data": {
      "image/png": "[encoded data removed]",
      "text/plain": [
       "<Figure size 640x480 with 1 Axes>"
      ]
     },
     "metadata": {},
     "output_type": "display_data"
    }
   ],
   "source": [
    "plt.plot(training_loss, color='b', label='Training')\n",
    "plt.plot(validation_loss, color='r', label=\"Validation\")\n",
    "plt.title(\"Loss Curve\", size=16)\n",
    "plt.legend()"
   ]
  },
  {
   "cell_type": "code",
   "execution_count": 8,
   "id": "c4062c20-9b8e-41b4-a3ae-597945cb8ad9",
   "metadata": {},
   "outputs": [
    {
     "data": {
      "text/plain": [
       "<All keys matched successfully>"
      ]
     },
     "execution_count": 8,
     "metadata": {},
     "output_type": "execute_result"
    }
   ],
   "source": [
    "model.load_state_dict(torch.load('./good/model_20250330_182906_rnn.torch'))"
   ]
  },
  {
   "cell_type": "code",
   "execution_count": 11,
   "id": "d0a5260f-4467-4183-99bf-480268aadcf5",
   "metadata": {},
   "outputs": [
    {
     "name": "stdout",
     "output_type": "stream",
     "text": [
      "perplexity 168.78354691315644\n",
      "i shall be able to be seen in his own, but the whole of the state, and i had to go in the house and the old man who, and he had a little of them, i have been a great man, and the most\n"
     ]
    }
   ],
   "source": [
    "model.eval()\n",
    "ppl = evaluate_perplexity(model, metrics['perp'], test_loader, device)\n",
    "print(\"perplexity\", ppl)\n",
    "\n",
    "print(model.prompt('Which do you prefer? Dogs or cats?', argm=False))"
   ]
  },
  {
   "cell_type": "code",
   "execution_count": 12,
   "id": "da0a5e8c-3ee9-4bab-a86f-978a58221f26",
   "metadata": {},
   "outputs": [
    {
     "name": "stdout",
     "output_type": "stream",
     "text": [
      "he was a little of the same day of a certain of the world. and i was sure, and i have been in the same time. he was not able to do you, and he had been seen in the same way. and, i\n"
     ]
    }
   ],
   "source": [
    "print(model.prompt('Who is Alice?', argm=False))"
   ]
  },
  {
   "cell_type": "code",
   "execution_count": null,
   "id": "31ab672a-6027-4e4b-9386-da501d8a3283",
   "metadata": {},
   "outputs": [],
   "source": []
  }
 ],
 "metadata": {
  "kernelspec": {
   "display_name": "Python 3 (ipykernel)",
   "language": "python",
   "name": "python3"
  },
  "language_info": {
   "codemirror_mode": {
    "name": "ipython",
    "version": 3
   },
   "file_extension": ".py",
   "mimetype": "text/x-python",
   "name": "python",
   "nbconvert_exporter": "python",
   "pygments_lexer": "ipython3",
   "version": "3.12.3"
  }
 },
 "nbformat": 4,
 "nbformat_minor": 5
}
