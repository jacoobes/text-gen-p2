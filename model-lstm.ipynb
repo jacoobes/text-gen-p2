{
 "cells": [
  {
   "cell_type": "code",
   "execution_count": 2,
   "id": "959a6969-ba6d-455b-9003-4c9ffbe4281b",
   "metadata": {},
   "outputs": [],
   "source": [
    "import io\n",
    "#npx degit jghawaly/CSC7809_FoundationModels/Project2/data/raw raw/                             \n",
    "import os, glob\n",
    "from typing import Tuple\n",
    "import numpy as np\n",
    "import torch\n",
    "import numpy as np\n",
    "from functools import reduce\n",
    "import sentencepiece as spm\n",
    "import torch\n",
    "from torch.utils.data import Dataset, DataLoader\n",
    "from torch.autograd import Variable\n",
    "from torch.nn import CrossEntropyLoss\n",
    "from torch.optim import AdamW, lr_scheduler\n",
    "from torcheval.metrics.metric import Metric\n",
    "from torcheval.metrics.text import Perplexity, BLEUScore\n",
    "import json\n",
    "from tqdm import tqdm\n",
    "from datetime import datetime\n",
    "from word_prediction import TokenizedDataset, read_jsonl, add_special_token, training_kit\n",
    "from models import LSTM\n"
   ]
  },
  {
   "cell_type": "code",
   "execution_count": 3,
   "id": "ff78b21c-b694-4cf1-8173-1332ad412ad2",
   "metadata": {},
   "outputs": [],
   "source": [
    "tokenizer_location = \"bptokenizer.model\"\n",
    "training_data = read_jsonl('./data/train.jsonl')\n",
    "testing_data = read_jsonl('./data/test.jsonl')\n",
    "sp = spm.SentencePieceProcessor(tokenizer_location)\n",
    "\n",
    "hidden_size = 512  # Number of hidden units\n",
    "output_size = sp.GetPieceSize() # Output dimension\n",
    "seq_len = 30  # Length of the input sequence\n",
    "batch_size = 256  # Number of sequences in a batch\n",
    "embed_dim = 1024"
   ]
  },
  {
   "cell_type": "code",
   "execution_count": 4,
   "id": "51c6a34e-761f-494c-ba45-2c786861ff65",
   "metadata": {},
   "outputs": [
    {
     "name": "stdout",
     "output_type": "stream",
     "text": [
      "torch cuda is_available\n"
     ]
    }
   ],
   "source": [
    "def read_jsonl(pat):\n",
    "    with open(pat, 'r') as f:\n",
    "        data = [json.loads(line) for line in f]\n",
    "    return data\n",
    "def add_special_token(prompt, completion):\n",
    "    # If the beginning of the prompt is upper case, then we assume it is the start of a sequence\n",
    "    if prompt[0].isupper():\n",
    "        prompt = '<bos>' + prompt\n",
    "    # If the end of the completion is a terminating punctuation, then we assume it is the end of a sequence\n",
    "    if completion.endswith('.') or completion.endswith('?') or completion.endswith('!'):\n",
    "        completion += '<eos>'\n",
    "    return  prompt, completion\n",
    "    \n",
    "def mkcollation(pad_id):\n",
    "    def collate(batch):\n",
    "        input_batch, target_batch = zip(*batch)\n",
    "        input_batch = torch.nn.utils.rnn.pad_sequence(input_batch, batch_first=True, padding_value=pad_id)\n",
    "        target_batch = torch.nn.utils.rnn.pad_sequence(target_batch, batch_first=True, padding_value=pad_id)\n",
    "        return input_batch, target_batch\n",
    "    return collate\n",
    "\n",
    "def evaluate_perplexity(model, perplexity_metric, data_loader, device):\n",
    "    hidden = model.init_hidden(model.batch_size)\n",
    "    with torch.no_grad():\n",
    "        for inputs, labels in data_loader:\n",
    "            inputs = inputs.to(device)\n",
    "            labels = labels.to(device)\n",
    "            # Initialize hidden state for this batch\n",
    "            # Forward pass through the model\n",
    "            logits, hidden = model(inputs, hidden)\n",
    "            perplexity_metric.update(logits, labels)\n",
    "            #print(perplexity_metric.compute().item())\n",
    "    \n",
    "    # Compute perplexity: torcheval.Perplexity returns exp(avg_loss)\n",
    "    ppl = perplexity_metric.compute().item()\n",
    "    return ppl\n",
    "\n",
    "\n",
    "\n",
    "if torch.cuda.is_available():\n",
    "    print('torch cuda is_available')\n",
    "    device = torch.device('cuda')          # Use GPU\n",
    "else:\n",
    "    print('torch cuda not is_available')\n",
    "    device = torch.device('cpu')           # Use CPU\n",
    "    \n",
    "metrics = {\n",
    "    'perp': Perplexity(ignore_index=sp.pad_id()).to(device),\n",
    "    'bleu': BLEUScore(n_gram=3).to(device)\n",
    "}\n"
   ]
  },
  {
   "cell_type": "code",
   "execution_count": 5,
   "id": "ba68ba5f-bba0-41c6-9159-2e9cdfab50cc",
   "metadata": {},
   "outputs": [],
   "source": [
    "collation = mkcollation(sp.pad_id())\n",
    " \n",
    "training_loader = DataLoader(\n",
    "    TokenizedDataset(training_data, sp, seq_len),\n",
    "    batch_size=batch_size,\n",
    "    shuffle=True,\n",
    "    drop_last=True,\n",
    "\n",
    "    collate_fn=collation\n",
    ") \n",
    "valset, testset = torch.utils.data.random_split(TokenizedDataset(testing_data, sp, seq_len), [.8, .2])\n",
    "validation_loader = DataLoader(\n",
    "    valset,\n",
    "    drop_last=True,\n",
    "    shuffle=False,\n",
    "    batch_size=batch_size,\n",
    "    collate_fn=collation\n",
    ")\n",
    "\n",
    "test_loader = DataLoader(\n",
    "    testset,\n",
    "    shuffle=False,\n",
    "    drop_last=True,\n",
    "    batch_size=batch_size,\n",
    "    collate_fn=collation\n",
    ")\n"
   ]
  },
  {
   "cell_type": "code",
   "execution_count": 6,
   "id": "5679b7a2-8cf7-4b20-ad89-1cd920f2c108",
   "metadata": {},
   "outputs": [],
   "source": [
    "lstmmodel = LSTM(embed_dim=embed_dim,\n",
    "                 hidden_size=hidden_size,\n",
    "                 output_size=output_size,\n",
    "                 batch_size=batch_size,\n",
    "                 n_layers=4,\n",
    "                 device=device,\n",
    "                 tokenizer=sp,\n",
    "                 name=\"lstm\").to(device)\n",
    "trainkit = training_kit(params=lstmmodel.parameters(),\n",
    "                        lr=0.001,\n",
    "                        weight_decay=0.01,\n",
    "                        epochs=30,\n",
    "                        dataloader=training_loader,\n",
    "                        valloader=validation_loader,\n",
    "                        batch_size=batch_size)"
   ]
  },
  {
   "cell_type": "code",
   "execution_count": 7,
   "id": "7f923696-8a42-408f-a22b-adb9ac3bccfb",
   "metadata": {},
   "outputs": [
    {
     "name": "stderr",
     "output_type": "stream",
     "text": [
      "  3%|████▊                                                                                                                                             | 1/30 [00:22<11:04, 22.92s/it]"
     ]
    },
    {
     "name": "stdout",
     "output_type": "stream",
     "text": [
      "numbers = (avg loss 6.8180076301871955 avgval 6.786834160486857 bestval 1000000.0)\n",
      "patience reset\n"
     ]
    },
    {
     "name": "stderr",
     "output_type": "stream",
     "text": [
      "  7%|█████████▋                                                                                                                                        | 2/30 [00:45<10:41, 22.90s/it]"
     ]
    },
    {
     "name": "stdout",
     "output_type": "stream",
     "text": [
      "numbers = (avg loss 6.71708133313563 avgval 6.78142237663269 bestval 6.786834160486857)\n",
      "patience reset\n"
     ]
    },
    {
     "name": "stderr",
     "output_type": "stream",
     "text": [
      " 10%|██████████████▌                                                                                                                                   | 3/30 [01:08<10:19, 22.96s/it]"
     ]
    },
    {
     "name": "stdout",
     "output_type": "stream",
     "text": [
      "numbers = (avg loss 6.710321342790282 avgval 6.7734619299570715 bestval 6.78142237663269)\n",
      "patience reset\n"
     ]
    },
    {
     "name": "stderr",
     "output_type": "stream",
     "text": [
      " 13%|███████████████████▍                                                                                                                              | 4/30 [01:32<10:00, 23.08s/it]"
     ]
    },
    {
     "name": "stdout",
     "output_type": "stream",
     "text": [
      "numbers = (avg loss 6.700986047843834 avgval 6.763899660110473 bestval 6.7734619299570715)\n",
      "patience reset\n"
     ]
    },
    {
     "name": "stderr",
     "output_type": "stream",
     "text": [
      " 17%|████████████████████████▎                                                                                                                         | 5/30 [01:55<09:38, 23.14s/it]"
     ]
    },
    {
     "name": "stdout",
     "output_type": "stream",
     "text": [
      "numbers = (avg loss 6.689719330180775 avgval 6.750768756866455 bestval 6.763899660110473)\n",
      "patience reset\n"
     ]
    },
    {
     "name": "stderr",
     "output_type": "stream",
     "text": [
      " 20%|█████████████████████████████▏                                                                                                                    | 6/30 [02:18<09:17, 23.23s/it]"
     ]
    },
    {
     "name": "stdout",
     "output_type": "stream",
     "text": [
      "numbers = (avg loss 6.682543042418245 avgval 6.744622643788656 bestval 6.750768756866455)\n",
      "patience reset\n"
     ]
    },
    {
     "name": "stderr",
     "output_type": "stream",
     "text": [
      " 23%|██████████████████████████████████                                                                                                                | 7/30 [02:42<08:55, 23.30s/it]"
     ]
    },
    {
     "name": "stdout",
     "output_type": "stream",
     "text": [
      "numbers = (avg loss 6.662702774072622 avgval 6.618590132395426 bestval 6.744622643788656)\n",
      "patience reset\n"
     ]
    },
    {
     "name": "stderr",
     "output_type": "stream",
     "text": [
      " 27%|██████████████████████████████████████▉                                                                                                           | 8/30 [03:05<08:34, 23.40s/it]"
     ]
    },
    {
     "name": "stdout",
     "output_type": "stream",
     "text": [
      "numbers = (avg loss 6.307227323581646 avgval 6.134583155314128 bestval 6.618590132395426)\n",
      "patience reset\n"
     ]
    },
    {
     "name": "stderr",
     "output_type": "stream",
     "text": [
      " 30%|███████████████████████████████████████████▊                                                                                                      | 9/30 [03:29<08:14, 23.55s/it]"
     ]
    },
    {
     "name": "stdout",
     "output_type": "stream",
     "text": [
      "numbers = (avg loss 5.779208632258626 avgval 5.71308757464091 bestval 6.134583155314128)\n",
      "patience reset\n"
     ]
    },
    {
     "name": "stderr",
     "output_type": "stream",
     "text": [
      " 33%|████████████████████████████████████████████████▎                                                                                                | 10/30 [03:53<07:54, 23.72s/it]"
     ]
    },
    {
     "name": "stdout",
     "output_type": "stream",
     "text": [
      "numbers = (avg loss 5.482406334443525 avgval 5.543289852142334 bestval 5.71308757464091)\n",
      "patience reset\n"
     ]
    },
    {
     "name": "stderr",
     "output_type": "stream",
     "text": [
      " 37%|█████████████████████████████████████████████████████▏                                                                                           | 11/30 [04:17<07:33, 23.86s/it]"
     ]
    },
    {
     "name": "stdout",
     "output_type": "stream",
     "text": [
      "numbers = (avg loss 5.311215313998136 avgval 5.433718379338583 bestval 5.543289852142334)\n",
      "patience reset\n"
     ]
    },
    {
     "name": "stderr",
     "output_type": "stream",
     "text": [
      " 40%|██████████████████████████████████████████████████████████                                                                                       | 12/30 [04:42<07:11, 23.99s/it]"
     ]
    },
    {
     "name": "stdout",
     "output_type": "stream",
     "text": [
      "numbers = (avg loss 5.188981003575511 avgval 5.362323156992594 bestval 5.433718379338583)\n",
      "patience reset\n"
     ]
    },
    {
     "name": "stderr",
     "output_type": "stream",
     "text": [
      " 43%|██████████████████████████████████████████████████████████████▊                                                                                  | 13/30 [05:06<06:50, 24.12s/it]"
     ]
    },
    {
     "name": "stdout",
     "output_type": "stream",
     "text": [
      "numbers = (avg loss 5.093089602210305 avgval 5.3091869672139484 bestval 5.362323156992594)\n",
      "patience reset\n"
     ]
    },
    {
     "name": "stderr",
     "output_type": "stream",
     "text": [
      " 47%|███████████████████████████████████████████████████████████████████▋                                                                             | 14/30 [05:31<06:27, 24.23s/it]"
     ]
    },
    {
     "name": "stdout",
     "output_type": "stream",
     "text": [
      "numbers = (avg loss 5.015113437330568 avgval 5.268879302342733 bestval 5.3091869672139484)\n",
      "patience reset\n"
     ]
    },
    {
     "name": "stderr",
     "output_type": "stream",
     "text": [
      " 50%|████████████████████████████████████████████████████████████████████████▌                                                                        | 15/30 [05:55<06:04, 24.32s/it]"
     ]
    },
    {
     "name": "stdout",
     "output_type": "stream",
     "text": [
      "numbers = (avg loss 4.949383738753084 avgval 5.239543692270915 bestval 5.268879302342733)\n",
      "patience reset\n"
     ]
    },
    {
     "name": "stderr",
     "output_type": "stream",
     "text": [
      " 53%|█████████████████████████████████████████████████████████████████████████████▎                                                                   | 16/30 [06:20<05:41, 24.41s/it]"
     ]
    },
    {
     "name": "stdout",
     "output_type": "stream",
     "text": [
      "numbers = (avg loss 4.890209191805356 avgval 5.21328166325887 bestval 5.239543692270915)\n",
      "patience reset\n"
     ]
    },
    {
     "name": "stderr",
     "output_type": "stream",
     "text": [
      " 57%|██████████████████████████████████████████████████████████████████████████████████▏                                                              | 17/30 [06:45<05:18, 24.51s/it]"
     ]
    },
    {
     "name": "stdout",
     "output_type": "stream",
     "text": [
      "numbers = (avg loss 4.836702510908053 avgval 5.1928744157155355 bestval 5.21328166325887)\n",
      "patience reset\n"
     ]
    },
    {
     "name": "stderr",
     "output_type": "stream",
     "text": [
      " 60%|███████████████████████████████████████████████████████████████████████████████████████                                                          | 18/30 [07:10<04:56, 24.75s/it]"
     ]
    },
    {
     "name": "stdout",
     "output_type": "stream",
     "text": [
      "numbers = (avg loss 4.787595395918016 avgval 5.173384650548299 bestval 5.1928744157155355)\n",
      "patience reset\n"
     ]
    },
    {
     "name": "stderr",
     "output_type": "stream",
     "text": [
      " 63%|███████████████████████████████████████████████████████████████████████████████████████████▊                                                     | 19/30 [07:35<04:33, 24.91s/it]"
     ]
    },
    {
     "name": "stdout",
     "output_type": "stream",
     "text": [
      "numbers = (avg loss 4.742383690623494 avgval 5.1612637360890705 bestval 5.173384650548299)\n",
      "patience reset\n"
     ]
    },
    {
     "name": "stderr",
     "output_type": "stream",
     "text": [
      " 67%|████████████████████████████████████████████████████████████████████████████████████████████████▋                                                | 20/30 [08:01<04:10, 25.08s/it]"
     ]
    },
    {
     "name": "stdout",
     "output_type": "stream",
     "text": [
      "numbers = (avg loss 4.700593257879282 avgval 5.15064860979716 bestval 5.1612637360890705)\n",
      "patience reset\n"
     ]
    },
    {
     "name": "stderr",
     "output_type": "stream",
     "text": [
      " 70%|█████████████████████████████████████████████████████████████████████████████████████████████████████▌                                           | 21/30 [08:26<03:46, 25.21s/it]"
     ]
    },
    {
     "name": "stdout",
     "output_type": "stream",
     "text": [
      "numbers = (avg loss 4.661312360268135 avgval 5.135677099227905 bestval 5.15064860979716)\n",
      "patience reset\n"
     ]
    },
    {
     "name": "stderr",
     "output_type": "stream",
     "text": [
      " 73%|██████████████████████████████████████████████████████████████████████████████████████████████████████████▎                                      | 22/30 [08:52<03:22, 25.31s/it]"
     ]
    },
    {
     "name": "stdout",
     "output_type": "stream",
     "text": [
      "numbers = (avg loss 4.62128311008602 avgval 5.129370816548666 bestval 5.135677099227905)\n",
      "patience reset\n"
     ]
    },
    {
     "name": "stderr",
     "output_type": "stream",
     "text": [
      " 77%|███████████████████████████████████████████████████████████████████████████████████████████████████████████████▏                                 | 23/30 [09:17<02:57, 25.38s/it]"
     ]
    },
    {
     "name": "stdout",
     "output_type": "stream",
     "text": [
      "numbers = (avg loss 4.58715592731129 avgval 5.12320343653361 bestval 5.129370816548666)\n",
      "patience reset\n"
     ]
    },
    {
     "name": "stderr",
     "output_type": "stream",
     "text": [
      " 80%|████████████████████████████████████████████████████████████████████████████████████████████████████████████████████                             | 24/30 [09:43<02:32, 25.38s/it]"
     ]
    },
    {
     "name": "stdout",
     "output_type": "stream",
     "text": [
      "numbers = (avg loss 4.552369994002503 avgval 5.115924612681071 bestval 5.12320343653361)\n",
      "patience reset\n"
     ]
    },
    {
     "name": "stderr",
     "output_type": "stream",
     "text": [
      " 83%|████████████████████████████████████████████████████████████████████████████████████████████████████████████████████████▊                        | 25/30 [10:08<02:07, 25.41s/it]"
     ]
    },
    {
     "name": "stdout",
     "output_type": "stream",
     "text": [
      "numbers = (avg loss 4.52001472262593 avgval 5.11133041381836 bestval 5.115924612681071)\n",
      "patience reset\n"
     ]
    },
    {
     "name": "stderr",
     "output_type": "stream",
     "text": [
      " 87%|█████████████████████████████████████████████████████████████████████████████████████████████████████████████████████████████▋                   | 26/30 [10:34<01:41, 25.44s/it]"
     ]
    },
    {
     "name": "stdout",
     "output_type": "stream",
     "text": [
      "numbers = (avg loss 4.489271442611496 avgval 5.1079559326171875 bestval 5.11133041381836)\n",
      "patience reset\n"
     ]
    },
    {
     "name": "stderr",
     "output_type": "stream",
     "text": [
      " 90%|██████████████████████████████████████████████████████████████████████████████████████████████████████████████████████████████████▌              | 27/30 [10:59<01:16, 25.48s/it]"
     ]
    },
    {
     "name": "stdout",
     "output_type": "stream",
     "text": [
      "numbers = (avg loss 4.459011223409083 avgval 5.108677895863851 bestval 5.1079559326171875)\n",
      "patience counted increased\n"
     ]
    },
    {
     "name": "stderr",
     "output_type": "stream",
     "text": [
      " 93%|███████████████████████████████████████████████████████████████████████████████████████████████████████████████████████████████████████▎         | 28/30 [11:25<00:51, 25.53s/it]"
     ]
    },
    {
     "name": "stdout",
     "output_type": "stream",
     "text": [
      "numbers = (avg loss 4.429526264017278 avgval 5.1056175072987875 bestval 5.1079559326171875)\n",
      "patience reset\n"
     ]
    },
    {
     "name": "stderr",
     "output_type": "stream",
     "text": [
      " 97%|████████████████████████████████████████████████████████████████████████████████████████████████████████████████████████████████████████████▏    | 29/30 [11:50<00:25, 25.54s/it]"
     ]
    },
    {
     "name": "stdout",
     "output_type": "stream",
     "text": [
      "numbers = (avg loss 4.401531848040494 avgval 5.1020774682362875 bestval 5.1056175072987875)\n",
      "patience reset\n"
     ]
    },
    {
     "name": "stderr",
     "output_type": "stream",
     "text": [
      "100%|█████████████████████████████████████████████████████████████████████████████████████████████████████████████████████████████████████████████████| 30/30 [12:16<00:00, 24.55s/it]"
     ]
    },
    {
     "name": "stdout",
     "output_type": "stream",
     "text": [
      "numbers = (avg loss 4.375667807343718 avgval 5.104472017288208 bestval 5.1020774682362875)\n",
      "patience counted increased\n"
     ]
    },
    {
     "name": "stderr",
     "output_type": "stream",
     "text": [
      "\n"
     ]
    }
   ],
   "source": [
    "lstmtraining_loss, lstmvalidation_loss = lstmmodel.reps(trainkit)"
   ]
  },
  {
   "cell_type": "code",
   "execution_count": 8,
   "id": "346decec-587d-4999-9fd7-f6656bac5e87",
   "metadata": {},
   "outputs": [],
   "source": [
    "import matplotlib as plt\n",
    "import matplotlib.pyplot as plt"
   ]
  },
  {
   "cell_type": "code",
   "execution_count": 9,
   "id": "c255b74a-7425-4e10-8cc2-8202b301ae4d",
   "metadata": {},
   "outputs": [
    {
     "data": {
      "text/plain": [
       "<matplotlib.legend.Legend at 0x7f13b60f0c50>"
      ]
     },
     "execution_count": 9,
     "metadata": {},
     "output_type": "execute_result"
    },
    {
     "data": {
      "image/png": "[encoded data removed]",
      "text/plain": [
       "<Figure size 640x480 with 1 Axes>"
      ]
     },
     "metadata": {},
     "output_type": "display_data"
    }
   ],
   "source": [
    "plt.plot(lstmtraining_loss, color='b', label='Training')\n",
    "plt.plot(lstmvalidation_loss, color='r', label='Validation')\n",
    "plt.title(\"Loss Curve\", size=16)\n",
    "plt.legend()"
   ]
  },
  {
   "cell_type": "code",
   "execution_count": 10,
   "id": "78219bd9-e99e-4e89-9980-9dec1117aed8",
   "metadata": {},
   "outputs": [
    {
     "name": "stdout",
     "output_type": "stream",
     "text": [
      ". it was a great one, and the same of the most interesting and ungrailing condition of his own. he has never seen her in his own house, and said: yes, yes, said monte cristo, that i have\n"
     ]
    }
   ],
   "source": [
    "ppl = evaluate_perplexity(lstmmodel, metrics['perp'], test_loader, device)\n",
    "print(\"perplexity\", ppl)\n",
    "#lstmmodel.load_state_dict(torch.load('./model_20250325_233555.torch'))\n",
    "print(lstmmodel.prompt('The wizard of waverly place'))"
   ]
  },
  {
   "cell_type": "code",
   "execution_count": null,
   "id": "281e5894-c31c-4209-ac2e-16b6895f3232",
   "metadata": {},
   "outputs": [],
   "source": []
  }
 ],
 "metadata": {
  "kernelspec": {
   "display_name": "Python 3 (ipykernel)",
   "language": "python",
   "name": "python3"
  },
  "language_info": {
   "codemirror_mode": {
    "name": "ipython",
    "version": 3
   },
   "file_extension": ".py",
   "mimetype": "text/x-python",
   "name": "python",
   "nbconvert_exporter": "python",
   "pygments_lexer": "ipython3",
   "version": "3.12.3"
  }
 },
 "nbformat": 4,
 "nbformat_minor": 5
}
