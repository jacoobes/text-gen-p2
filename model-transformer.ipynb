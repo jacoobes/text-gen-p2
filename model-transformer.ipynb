{
 "cells": [
  {
   "cell_type": "code",
   "execution_count": 1,
   "id": "00a72ba4-31c9-4d26-a705-64bc63cbbadf",
   "metadata": {},
   "outputs": [],
   "source": [
    "import io\n",
    "#npx degit jghawaly/CSC7809_FoundationModels/Project2/data/raw raw/                             \n",
    "import os, glob\n",
    "from typing import Tuple\n",
    "import numpy as np\n",
    "import torch\n",
    "import numpy as np\n",
    "from functools import reduce\n",
    "import sentencepiece as spm\n",
    "import torch\n",
    "from torch.utils.data import Dataset, DataLoader\n",
    "from torch.autograd import Variable\n",
    "from torch.nn import CrossEntropyLoss\n",
    "from torch.optim import AdamW, lr_scheduler\n",
    "from torcheval.metrics.metric import Metric\n",
    "from torcheval.metrics.text import Perplexity, BLEUScore\n",
    "import json\n",
    "from tqdm import tqdm\n",
    "from datetime import datetime\n",
    "from word_prediction import TokenizedDataset, read_jsonl, add_special_token, training_kit, mkcollation, evaluate_perplexity\n",
    "from models import TransformerModel"
   ]
  },
  {
   "cell_type": "code",
   "execution_count": 2,
   "id": "4ccbc643-a9cf-42de-a309-1c0249c3903f",
   "metadata": {},
   "outputs": [],
   "source": [
    "tokenizer_location = \"bptokenizer.model\"\n",
    "training_data = read_jsonl('./data/train.jsonl')\n",
    "testing_data = read_jsonl('./data/test.jsonl')\n",
    "sp = spm.SentencePieceProcessor(tokenizer_location)\n",
    "\n",
    "embed_dim=320\n",
    "output_size=sp.GetPieceSize()\n",
    "feedforward_size=1024\n",
    "batch_size=256\n",
    "seq_len = 50  # Length of the input sequence\n"
   ]
  },
  {
   "cell_type": "code",
   "execution_count": 3,
   "id": "ce715cb4-2343-43e8-ac28-e774e6ad6b47",
   "metadata": {},
   "outputs": [
    {
     "name": "stdout",
     "output_type": "stream",
     "text": [
      "torch cuda is_available\n"
     ]
    }
   ],
   "source": [
    "\n",
    "if torch.cuda.is_available():\n",
    "    print('torch cuda is_available')\n",
    "    device = torch.device('cuda')          # Use GPU\n",
    "else:\n",
    "    print('torch cuda not is_available')\n",
    "    device = torch.device('cpu')           # Use CPU\n",
    "    \n",
    "metrics = {\n",
    "    'perp': Perplexity(ignore_index=sp.pad_id()).to(device),\n",
    "    'bleu': BLEUScore(n_gram=3).to(device)\n",
    "}"
   ]
  },
  {
   "cell_type": "code",
   "execution_count": 4,
   "id": "57ec8ee5-90f0-4ed3-9d87-a67ed25b89d1",
   "metadata": {},
   "outputs": [],
   "source": [
    "collation = mkcollation(sp.pad_id())\n",
    " \n",
    "training_loader = DataLoader(\n",
    "    TokenizedDataset(training_data, sp, seq_len),\n",
    "    batch_size=batch_size,\n",
    "    shuffle=True,\n",
    "    drop_last=True,\n",
    "\n",
    "    collate_fn=collation\n",
    ") \n",
    "valset, testset = torch.utils.data.random_split(TokenizedDataset(testing_data, sp, seq_len), [.8, .2])\n",
    "validation_loader = DataLoader(\n",
    "    valset,\n",
    "    drop_last=True,\n",
    "    shuffle=False,\n",
    "    batch_size=batch_size,\n",
    "    collate_fn=collation\n",
    ")\n",
    "\n",
    "test_loader = DataLoader(\n",
    "    testset,\n",
    "    shuffle=False,\n",
    "    drop_last=True,\n",
    "    batch_size=batch_size,\n",
    "    collate_fn=collation\n",
    ")"
   ]
  },
  {
   "cell_type": "code",
   "execution_count": 5,
   "id": "105a71fe-efae-4253-8d7a-3791641df33d",
   "metadata": {},
   "outputs": [],
   "source": [
    "model = TransformerModel(\n",
    "        feedforward_size=feedforward_size,\n",
    "        embed_dim=embed_dim,\n",
    "        output_size=output_size,\n",
    "        batch_size=batch_size,\n",
    "        sequence_length=seq_len,\n",
    "        device=device,\n",
    "        tokenizer=sp,\n",
    "        name=\"transformer\"\n",
    ").to(device)\n",
    "trainkit = training_kit(params=model.parameters(),\n",
    "                        lr=0.001,\n",
    "                        weight_decay=0.01,\n",
    "                        epochs=75,\n",
    "                        dataloader=training_loader,\n",
    "                        valloader=validation_loader,\n",
    "                        batch_size=batch_size)"
   ]
  },
  {
   "cell_type": "code",
   "execution_count": 6,
   "id": "bd16e0dd-7c2d-43bb-9d57-f87f42242e29",
   "metadata": {},
   "outputs": [
    {
     "name": "stderr",
     "output_type": "stream",
     "text": [
      "  1%|██▎                                                                                                                                                                       | 1/75 [00:14<18:20, 14.87s/it]"
     ]
    },
    {
     "name": "stdout",
     "output_type": "stream",
     "text": [
      "numbers = (avg loss 6.437489268067595 avgval 5.750515985488891 bestval 1000000.0)\n",
      "patience reset\n"
     ]
    },
    {
     "name": "stderr",
     "output_type": "stream",
     "text": [
      "  3%|████▌                                                                                                                                                                     | 2/75 [00:29<18:07, 14.90s/it]"
     ]
    },
    {
     "name": "stdout",
     "output_type": "stream",
     "text": [
      "numbers = (avg loss 5.576911644502119 avgval 5.490821743011475 bestval 5.750515985488891)\n",
      "patience reset\n"
     ]
    },
    {
     "name": "stderr",
     "output_type": "stream",
     "text": [
      "  4%|██████▊                                                                                                                                                                   | 3/75 [00:44<17:59, 14.99s/it]"
     ]
    },
    {
     "name": "stdout",
     "output_type": "stream",
     "text": [
      "numbers = (avg loss 5.352101403397399 avgval 5.361629756291707 bestval 5.490821743011475)\n",
      "patience reset\n"
     ]
    },
    {
     "name": "stderr",
     "output_type": "stream",
     "text": [
      "  5%|█████████                                                                                                                                                                 | 4/75 [01:00<17:49, 15.06s/it]"
     ]
    },
    {
     "name": "stdout",
     "output_type": "stream",
     "text": [
      "numbers = (avg loss 5.221155259516332 avgval 5.286262941360474 bestval 5.361629756291707)\n",
      "patience reset\n"
     ]
    },
    {
     "name": "stderr",
     "output_type": "stream",
     "text": [
      "  7%|███████████▎                                                                                                                                                              | 5/75 [01:15<17:39, 15.14s/it]"
     ]
    },
    {
     "name": "stdout",
     "output_type": "stream",
     "text": [
      "numbers = (avg loss 5.134101660220654 avgval 5.23852014541626 bestval 5.286262941360474)\n",
      "patience reset\n"
     ]
    },
    {
     "name": "stderr",
     "output_type": "stream",
     "text": [
      "  8%|█████████████▌                                                                                                                                                            | 6/75 [01:30<17:31, 15.24s/it]"
     ]
    },
    {
     "name": "stdout",
     "output_type": "stream",
     "text": [
      "numbers = (avg loss 5.072705773564128 avgval 5.20541075070699 bestval 5.23852014541626)\n",
      "patience reset\n"
     ]
    },
    {
     "name": "stderr",
     "output_type": "stream",
     "text": [
      "  9%|███████████████▊                                                                                                                                                          | 7/75 [01:46<17:18, 15.28s/it]"
     ]
    },
    {
     "name": "stdout",
     "output_type": "stream",
     "text": [
      "numbers = (avg loss 5.024545799602162 avgval 5.181879997253418 bestval 5.20541075070699)\n",
      "patience reset\n"
     ]
    },
    {
     "name": "stderr",
     "output_type": "stream",
     "text": [
      " 11%|██████████████████▏                                                                                                                                                       | 8/75 [02:01<17:02, 15.26s/it]"
     ]
    },
    {
     "name": "stdout",
     "output_type": "stream",
     "text": [
      "numbers = (avg loss 4.98826848376881 avgval 5.16507937113444 bestval 5.181879997253418)\n",
      "patience reset\n"
     ]
    },
    {
     "name": "stderr",
     "output_type": "stream",
     "text": [
      " 12%|████████████████████▍                                                                                                                                                     | 9/75 [02:16<16:46, 15.24s/it]"
     ]
    },
    {
     "name": "stdout",
     "output_type": "stream",
     "text": [
      "numbers = (avg loss 4.958272977308794 avgval 5.15254561106364 bestval 5.16507937113444)\n",
      "patience reset\n"
     ]
    },
    {
     "name": "stderr",
     "output_type": "stream",
     "text": [
      " 13%|██████████████████████▌                                                                                                                                                  | 10/75 [02:31<16:30, 15.24s/it]"
     ]
    },
    {
     "name": "stdout",
     "output_type": "stream",
     "text": [
      "numbers = (avg loss 4.933104016564109 avgval 5.143160549799601 bestval 5.15254561106364)\n",
      "patience reset\n"
     ]
    },
    {
     "name": "stderr",
     "output_type": "stream",
     "text": [
      " 15%|████████████████████████▊                                                                                                                                                | 11/75 [02:47<16:15, 15.25s/it]"
     ]
    },
    {
     "name": "stdout",
     "output_type": "stream",
     "text": [
      "numbers = (avg loss 4.91274602382214 avgval 5.13683705329895 bestval 5.143160549799601)\n",
      "patience reset\n"
     ]
    },
    {
     "name": "stderr",
     "output_type": "stream",
     "text": [
      " 16%|███████████████████████████                                                                                                                                              | 12/75 [03:02<16:02, 15.27s/it]"
     ]
    },
    {
     "name": "stdout",
     "output_type": "stream",
     "text": [
      "numbers = (avg loss 4.893992900848389 avgval 5.1309683163960775 bestval 5.13683705329895)\n",
      "patience reset\n"
     ]
    },
    {
     "name": "stderr",
     "output_type": "stream",
     "text": [
      " 17%|█████████████████████████████▎                                                                                                                                           | 13/75 [03:17<15:49, 15.31s/it]"
     ]
    },
    {
     "name": "stdout",
     "output_type": "stream",
     "text": [
      "numbers = (avg loss 4.87867731862254 avgval 5.126789617538452 bestval 5.1309683163960775)\n",
      "patience reset\n"
     ]
    },
    {
     "name": "stderr",
     "output_type": "stream",
     "text": [
      " 19%|███████████████████████████████▌                                                                                                                                         | 14/75 [03:33<15:34, 15.32s/it]"
     ]
    },
    {
     "name": "stdout",
     "output_type": "stream",
     "text": [
      "numbers = (avg loss 4.864595499905673 avgval 5.1227126280466715 bestval 5.126789617538452)\n",
      "patience reset\n"
     ]
    },
    {
     "name": "stderr",
     "output_type": "stream",
     "text": [
      " 20%|█████████████████████████████████▊                                                                                                                                       | 15/75 [03:48<15:20, 15.34s/it]"
     ]
    },
    {
     "name": "stdout",
     "output_type": "stream",
     "text": [
      "numbers = (avg loss 4.852833738574734 avgval 5.121010367075602 bestval 5.1227126280466715)\n",
      "patience reset\n"
     ]
    },
    {
     "name": "stderr",
     "output_type": "stream",
     "text": [
      " 21%|████████████████████████████████████                                                                                                                                     | 16/75 [04:03<15:07, 15.37s/it]"
     ]
    },
    {
     "name": "stdout",
     "output_type": "stream",
     "text": [
      "numbers = (avg loss 4.842299458268401 avgval 5.119175497690836 bestval 5.121010367075602)\n",
      "patience reset\n"
     ]
    },
    {
     "name": "stderr",
     "output_type": "stream",
     "text": [
      " 23%|██████████████████████████████████████▎                                                                                                                                  | 17/75 [04:19<14:54, 15.41s/it]"
     ]
    },
    {
     "name": "stdout",
     "output_type": "stream",
     "text": [
      "numbers = (avg loss 4.8316831000439535 avgval 5.116938670476277 bestval 5.119175497690836)\n",
      "patience reset\n"
     ]
    },
    {
     "name": "stderr",
     "output_type": "stream",
     "text": [
      " 24%|████████████████████████████████████████▌                                                                                                                                | 18/75 [04:35<14:42, 15.48s/it]"
     ]
    },
    {
     "name": "stdout",
     "output_type": "stream",
     "text": [
      "numbers = (avg loss 4.822236510066243 avgval 5.115965080261231 bestval 5.116938670476277)\n",
      "patience reset\n"
     ]
    },
    {
     "name": "stderr",
     "output_type": "stream",
     "text": [
      " 25%|██████████████████████████████████████████▊                                                                                                                              | 19/75 [04:50<14:28, 15.52s/it]"
     ]
    },
    {
     "name": "stdout",
     "output_type": "stream",
     "text": [
      "numbers = (avg loss 4.81453478181517 avgval 5.115596199035645 bestval 5.115965080261231)\n",
      "patience reset\n"
     ]
    },
    {
     "name": "stderr",
     "output_type": "stream",
     "text": [
      " 27%|█████████████████████████████████████████████                                                                                                                            | 20/75 [05:06<14:14, 15.54s/it]"
     ]
    },
    {
     "name": "stdout",
     "output_type": "stream",
     "text": [
      "numbers = (avg loss 4.806378246901871 avgval 5.114669005076091 bestval 5.115596199035645)\n",
      "patience reset\n"
     ]
    },
    {
     "name": "stderr",
     "output_type": "stream",
     "text": [
      " 28%|███████████████████████████████████████████████▎                                                                                                                         | 21/75 [05:21<14:01, 15.58s/it]"
     ]
    },
    {
     "name": "stdout",
     "output_type": "stream",
     "text": [
      "numbers = (avg loss 4.799107316252473 avgval 5.114483213424682 bestval 5.114669005076091)\n",
      "patience reset\n"
     ]
    },
    {
     "name": "stderr",
     "output_type": "stream",
     "text": [
      " 29%|█████████████████████████████████████████████████▌                                                                                                                       | 22/75 [05:37<13:47, 15.62s/it]"
     ]
    },
    {
     "name": "stdout",
     "output_type": "stream",
     "text": [
      "numbers = (avg loss 4.792932532050393 avgval 5.114816363652547 bestval 5.114483213424682)\n",
      "patience counted increased\n"
     ]
    },
    {
     "name": "stderr",
     "output_type": "stream",
     "text": [
      " 31%|███████████████████████████████████████████████████▊                                                                                                                     | 23/75 [05:53<13:33, 15.65s/it]"
     ]
    },
    {
     "name": "stdout",
     "output_type": "stream",
     "text": [
      "numbers = (avg loss 4.786632500685655 avgval 5.114184617996216 bestval 5.114483213424682)\n",
      "patience reset\n"
     ]
    },
    {
     "name": "stderr",
     "output_type": "stream",
     "text": [
      " 32%|██████████████████████████████████████████████████████                                                                                                                   | 24/75 [06:09<13:20, 15.69s/it]"
     ]
    },
    {
     "name": "stdout",
     "output_type": "stream",
     "text": [
      "numbers = (avg loss 4.780879958883508 avgval 5.114466683069865 bestval 5.114184617996216)\n",
      "patience counted increased\n"
     ]
    },
    {
     "name": "stderr",
     "output_type": "stream",
     "text": [
      " 33%|████████████████████████████████████████████████████████▎                                                                                                                | 25/75 [06:24<13:04, 15.70s/it]"
     ]
    },
    {
     "name": "stdout",
     "output_type": "stream",
     "text": [
      "numbers = (avg loss 4.751472603191029 avgval 5.104303312301636 bestval 5.114184617996216)\n",
      "patience reset\n"
     ]
    },
    {
     "name": "stderr",
     "output_type": "stream",
     "text": [
      " 35%|██████████████████████████████████████████████████████████▌                                                                                                              | 26/75 [06:40<12:50, 15.73s/it]"
     ]
    },
    {
     "name": "stdout",
     "output_type": "stream",
     "text": [
      "numbers = (avg loss 4.745035230339347 avgval 5.103654066721599 bestval 5.104303312301636)\n",
      "patience reset\n"
     ]
    },
    {
     "name": "stderr",
     "output_type": "stream",
     "text": [
      " 36%|████████████████████████████████████████████████████████████▊                                                                                                            | 27/75 [06:56<12:36, 15.76s/it]"
     ]
    },
    {
     "name": "stdout",
     "output_type": "stream",
     "text": [
      "numbers = (avg loss 4.741781101598368 avgval 5.1031384309132894 bestval 5.103654066721599)\n",
      "patience reset\n"
     ]
    },
    {
     "name": "stderr",
     "output_type": "stream",
     "text": [
      " 37%|███████████████████████████████████████████████████████████████                                                                                                          | 28/75 [07:12<12:22, 15.79s/it]"
     ]
    },
    {
     "name": "stdout",
     "output_type": "stream",
     "text": [
      "numbers = (avg loss 4.738677947552173 avgval 5.102902285257975 bestval 5.1031384309132894)\n",
      "patience reset\n"
     ]
    },
    {
     "name": "stderr",
     "output_type": "stream",
     "text": [
      " 39%|█████████████████████████████████████████████████████████████████▎                                                                                                       | 29/75 [07:28<12:08, 15.83s/it]"
     ]
    },
    {
     "name": "stdout",
     "output_type": "stream",
     "text": [
      "numbers = (avg loss 4.736559635632998 avgval 5.103335523605347 bestval 5.102902285257975)\n",
      "patience counted increased\n"
     ]
    },
    {
     "name": "stderr",
     "output_type": "stream",
     "text": [
      " 40%|███████████████████████████████████████████████████████████████████▌                                                                                                     | 30/75 [07:44<11:52, 15.84s/it]"
     ]
    },
    {
     "name": "stdout",
     "output_type": "stream",
     "text": [
      "numbers = (avg loss 4.734576163353858 avgval 5.103252156575521 bestval 5.102902285257975)\n",
      "patience counted increased\n"
     ]
    },
    {
     "name": "stderr",
     "output_type": "stream",
     "text": [
      " 41%|█████████████████████████████████████████████████████████████████████▊                                                                                                   | 31/75 [08:00<11:36, 15.84s/it]"
     ]
    },
    {
     "name": "stdout",
     "output_type": "stream",
     "text": [
      "numbers = (avg loss 4.732179629338252 avgval 5.103226979573567 bestval 5.102902285257975)\n",
      "patience counted increased\n"
     ]
    },
    {
     "name": "stderr",
     "output_type": "stream",
     "text": [
      " 43%|████████████████████████████████████████████████████████████████████████                                                                                                 | 32/75 [08:15<11:21, 15.85s/it]"
     ]
    },
    {
     "name": "stdout",
     "output_type": "stream",
     "text": [
      "numbers = (avg loss 4.715807258308708 avgval 5.09990553855896 bestval 5.102902285257975)\n",
      "patience reset\n"
     ]
    },
    {
     "name": "stderr",
     "output_type": "stream",
     "text": [
      " 44%|██████████████████████████████████████████████████████████████████████████▎                                                                                              | 33/75 [08:31<11:06, 15.87s/it]"
     ]
    },
    {
     "name": "stdout",
     "output_type": "stream",
     "text": [
      "numbers = (avg loss 4.713885651006327 avgval 5.099617385864258 bestval 5.09990553855896)\n",
      "patience reset\n"
     ]
    },
    {
     "name": "stderr",
     "output_type": "stream",
     "text": [
      " 45%|████████████████████████████████████████████████████████████████████████████▌                                                                                            | 34/75 [08:47<10:53, 15.93s/it]"
     ]
    },
    {
     "name": "stdout",
     "output_type": "stream",
     "text": [
      "numbers = (avg loss 4.712667675761433 avgval 5.099411789576212 bestval 5.099617385864258)\n",
      "patience reset\n"
     ]
    },
    {
     "name": "stderr",
     "output_type": "stream",
     "text": [
      " 47%|██████████████████████████████████████████████████████████████████████████████▊                                                                                          | 35/75 [09:03<10:36, 15.92s/it]"
     ]
    },
    {
     "name": "stdout",
     "output_type": "stream",
     "text": [
      "numbers = (avg loss 4.711508249307608 avgval 5.099325784047445 bestval 5.099411789576212)\n",
      "patience reset\n"
     ]
    },
    {
     "name": "stderr",
     "output_type": "stream",
     "text": [
      " 48%|█████████████████████████████████████████████████████████████████████████████████                                                                                        | 36/75 [09:19<10:21, 15.94s/it]"
     ]
    },
    {
     "name": "stdout",
     "output_type": "stream",
     "text": [
      "numbers = (avg loss 4.709700949780353 avgval 5.098929119110108 bestval 5.099325784047445)\n",
      "patience reset\n"
     ]
    },
    {
     "name": "stderr",
     "output_type": "stream",
     "text": [
      " 49%|███████████████████████████████████████████████████████████████████████████████████▎                                                                                     | 37/75 [09:35<10:05, 15.93s/it]"
     ]
    },
    {
     "name": "stdout",
     "output_type": "stream",
     "text": [
      "numbers = (avg loss 4.709077519255799 avgval 5.099168316523234 bestval 5.098929119110108)\n",
      "patience counted increased\n"
     ]
    },
    {
     "name": "stderr",
     "output_type": "stream",
     "text": [
      " 51%|█████████████████████████████████████████████████████████████████████████████████████▋                                                                                   | 38/75 [09:51<09:49, 15.93s/it]"
     ]
    },
    {
     "name": "stdout",
     "output_type": "stream",
     "text": [
      "numbers = (avg loss 4.706699851271394 avgval 5.0990575949351 bestval 5.098929119110108)\n",
      "patience counted increased\n"
     ]
    },
    {
     "name": "stderr",
     "output_type": "stream",
     "text": [
      " 52%|███████████████████████████████████████████████████████████████████████████████████████▉                                                                                 | 39/75 [10:07<09:33, 15.93s/it]"
     ]
    },
    {
     "name": "stdout",
     "output_type": "stream",
     "text": [
      "numbers = (avg loss 4.706646767529574 avgval 5.099628607432048 bestval 5.098929119110108)\n",
      "patience counted increased\n"
     ]
    },
    {
     "name": "stderr",
     "output_type": "stream",
     "text": [
      " 53%|██████████████████████████████████████████████████████████████████████████████████████████▏                                                                              | 40/75 [10:23<09:17, 15.94s/it]"
     ]
    },
    {
     "name": "stdout",
     "output_type": "stream",
     "text": [
      "numbers = (avg loss 4.69843822020989 avgval 5.098525158564249 bestval 5.098929119110108)\n",
      "patience reset\n"
     ]
    },
    {
     "name": "stderr",
     "output_type": "stream",
     "text": [
      " 55%|████████████████████████████████████████████████████████████████████████████████████████████▍                                                                            | 41/75 [10:39<09:02, 15.96s/it]"
     ]
    },
    {
     "name": "stdout",
     "output_type": "stream",
     "text": [
      "numbers = (avg loss 4.697887426846988 avgval 5.098341290156046 bestval 5.098525158564249)\n",
      "patience reset\n"
     ]
    },
    {
     "name": "stderr",
     "output_type": "stream",
     "text": [
      " 56%|██████████████████████████████████████████████████████████████████████████████████████████████▋                                                                          | 42/75 [10:55<08:47, 15.99s/it]"
     ]
    },
    {
     "name": "stdout",
     "output_type": "stream",
     "text": [
      "numbers = (avg loss 4.696803260159183 avgval 5.098338429133097 bestval 5.098341290156046)\n",
      "patience reset\n"
     ]
    },
    {
     "name": "stderr",
     "output_type": "stream",
     "text": [
      " 57%|████████████████████████████████████████████████████████████████████████████████████████████████▉                                                                        | 43/75 [11:11<08:32, 16.00s/it]"
     ]
    },
    {
     "name": "stdout",
     "output_type": "stream",
     "text": [
      "numbers = (avg loss 4.696447648011245 avgval 5.09816133181254 bestval 5.098338429133097)\n",
      "patience reset\n"
     ]
    },
    {
     "name": "stderr",
     "output_type": "stream",
     "text": [
      " 59%|███████████████████████████████████████████████████████████████████████████████████████████████████▏                                                                     | 44/75 [11:27<08:15, 15.99s/it]"
     ]
    },
    {
     "name": "stdout",
     "output_type": "stream",
     "text": [
      "numbers = (avg loss 4.69600696997209 avgval 5.098016452789307 bestval 5.09816133181254)\n",
      "patience reset\n"
     ]
    },
    {
     "name": "stderr",
     "output_type": "stream",
     "text": [
      " 60%|█████████████████████████████████████████████████████████████████████████████████████████████████████▍                                                                   | 45/75 [11:43<08:00, 16.01s/it]"
     ]
    },
    {
     "name": "stdout",
     "output_type": "stream",
     "text": [
      "numbers = (avg loss 4.691850377367689 avgval 5.0978868961334225 bestval 5.098016452789307)\n",
      "patience reset\n"
     ]
    },
    {
     "name": "stderr",
     "output_type": "stream",
     "text": [
      " 61%|███████████████████████████████████████████████████████████████████████████████████████████████████████▋                                                                 | 46/75 [11:59<07:43, 15.99s/it]"
     ]
    },
    {
     "name": "stdout",
     "output_type": "stream",
     "text": [
      "numbers = (avg loss 4.690884295996133 avgval 5.097888374328614 bestval 5.0978868961334225)\n",
      "patience counted increased\n"
     ]
    },
    {
     "name": "stderr",
     "output_type": "stream",
     "text": [
      " 63%|█████████████████████████████████████████████████████████████████████████████████████████████████████████▉                                                               | 47/75 [12:15<07:27, 15.99s/it]"
     ]
    },
    {
     "name": "stdout",
     "output_type": "stream",
     "text": [
      "numbers = (avg loss 4.690054580762789 avgval 5.097674306233724 bestval 5.0978868961334225)\n",
      "patience reset\n"
     ]
    },
    {
     "name": "stderr",
     "output_type": "stream",
     "text": [
      " 64%|████████████████████████████████████████████████████████████████████████████████████████████████████████████▏                                                            | 48/75 [12:31<07:11, 15.97s/it]"
     ]
    },
    {
     "name": "stdout",
     "output_type": "stream",
     "text": [
      "numbers = (avg loss 4.690553869519915 avgval 5.097767003377279 bestval 5.097674306233724)\n",
      "patience counted increased\n"
     ]
    },
    {
     "name": "stderr",
     "output_type": "stream",
     "text": [
      " 65%|██████████████████████████████████████████████████████████████████████████████████████████████████████████████▍                                                          | 49/75 [12:47<06:55, 15.97s/it]"
     ]
    },
    {
     "name": "stdout",
     "output_type": "stream",
     "text": [
      "numbers = (avg loss 4.690480452079277 avgval 5.0977306683858234 bestval 5.097674306233724)\n",
      "patience counted increased\n"
     ]
    },
    {
     "name": "stderr",
     "output_type": "stream",
     "text": [
      " 67%|████████████████████████████████████████████████████████████████████████████████████████████████████████████████▋                                                        | 50/75 [13:03<06:39, 15.97s/it]"
     ]
    },
    {
     "name": "stdout",
     "output_type": "stream",
     "text": [
      "numbers = (avg loss 4.6869314274230565 avgval 5.097637573877971 bestval 5.097674306233724)\n",
      "patience reset\n"
     ]
    },
    {
     "name": "stderr",
     "output_type": "stream",
     "text": [
      " 68%|██████████████████████████████████████████████████████████████████████████████████████████████████████████████████▉                                                      | 51/75 [13:19<06:24, 16.00s/it]"
     ]
    },
    {
     "name": "stdout",
     "output_type": "stream",
     "text": [
      "numbers = (avg loss 4.687701655672742 avgval 5.097585296630859 bestval 5.097637573877971)\n",
      "patience reset\n"
     ]
    },
    {
     "name": "stderr",
     "output_type": "stream",
     "text": [
      " 69%|█████████████████████████████████████████████████████████████████████████████████████████████████████████████████████▏                                                   | 52/75 [13:35<06:07, 15.99s/it]"
     ]
    },
    {
     "name": "stdout",
     "output_type": "stream",
     "text": [
      "numbers = (avg loss 4.6870364275845615 avgval 5.097545115152995 bestval 5.097585296630859)\n",
      "patience reset\n"
     ]
    },
    {
     "name": "stderr",
     "output_type": "stream",
     "text": [
      " 71%|███████████████████████████████████████████████████████████████████████████████████████████████████████████████████████▍                                                 | 53/75 [13:51<05:51, 16.00s/it]"
     ]
    },
    {
     "name": "stdout",
     "output_type": "stream",
     "text": [
      "numbers = (avg loss 4.687070840364926 avgval 5.097527599334716 bestval 5.097545115152995)\n",
      "patience reset\n"
     ]
    },
    {
     "name": "stderr",
     "output_type": "stream",
     "text": [
      " 72%|█████████████████████████████████████████████████████████████████████████████████████████████████████████████████████████▋                                               | 54/75 [14:07<05:36, 16.02s/it]"
     ]
    },
    {
     "name": "stdout",
     "output_type": "stream",
     "text": [
      "numbers = (avg loss 4.6866374727967495 avgval 5.097477992375691 bestval 5.097527599334716)\n",
      "patience reset\n"
     ]
    },
    {
     "name": "stderr",
     "output_type": "stream",
     "text": [
      " 73%|███████████████████████████████████████████████████████████████████████████████████████████████████████████████████████████▉                                             | 55/75 [14:23<05:20, 16.03s/it]"
     ]
    },
    {
     "name": "stdout",
     "output_type": "stream",
     "text": [
      "numbers = (avg loss 4.685466552709604 avgval 5.09750706354777 bestval 5.097477992375691)\n",
      "patience counted increased\n"
     ]
    },
    {
     "name": "stderr",
     "output_type": "stream",
     "text": [
      " 75%|██████████████████████████████████████████████████████████████████████████████████████████████████████████████████████████████▏                                          | 56/75 [14:39<05:05, 16.07s/it]"
     ]
    },
    {
     "name": "stdout",
     "output_type": "stream",
     "text": [
      "numbers = (avg loss 4.68618630124377 avgval 5.09748797416687 bestval 5.097477992375691)\n",
      "patience counted increased\n"
     ]
    },
    {
     "name": "stderr",
     "output_type": "stream",
     "text": [
      " 76%|████████████████████████████████████████████████████████████████████████████████████████████████████████████████████████████████▍                                        | 57/75 [14:55<04:49, 16.08s/it]"
     ]
    },
    {
     "name": "stdout",
     "output_type": "stream",
     "text": [
      "numbers = (avg loss 4.685727103964075 avgval 5.097475703557333 bestval 5.097477992375691)\n",
      "patience reset\n"
     ]
    },
    {
     "name": "stderr",
     "output_type": "stream",
     "text": [
      " 77%|██████████████████████████████████████████████████████████████████████████████████████████████████████████████████████████████████▋                                      | 58/75 [15:11<04:33, 16.09s/it]"
     ]
    },
    {
     "name": "stdout",
     "output_type": "stream",
     "text": [
      "numbers = (avg loss 4.6850074730910265 avgval 5.097466071446736 bestval 5.097475703557333)\n",
      "patience reset\n"
     ]
    },
    {
     "name": "stderr",
     "output_type": "stream",
     "text": [
      " 79%|████████████████████████████████████████████████████████████████████████████████████████████████████████████████████████████████████▉                                    | 59/75 [15:28<04:17, 16.11s/it]"
     ]
    },
    {
     "name": "stdout",
     "output_type": "stream",
     "text": [
      "numbers = (avg loss 4.685500231656161 avgval 5.0974610328674315 bestval 5.097466071446736)\n",
      "patience reset\n"
     ]
    },
    {
     "name": "stderr",
     "output_type": "stream",
     "text": [
      " 80%|███████████████████████████████████████████████████████████████████████████████████████████████████████████████████████████████████████▏                                 | 60/75 [15:44<04:01, 16.12s/it]"
     ]
    },
    {
     "name": "stdout",
     "output_type": "stream",
     "text": [
      "numbers = (avg loss 4.684607443871436 avgval 5.097449175516764 bestval 5.0974610328674315)\n",
      "patience reset\n"
     ]
    },
    {
     "name": "stderr",
     "output_type": "stream",
     "text": [
      " 81%|█████████████████████████████████████████████████████████████████████████████████████████████████████████████████████████████████████████▍                               | 61/75 [16:00<03:45, 16.13s/it]"
     ]
    },
    {
     "name": "stdout",
     "output_type": "stream",
     "text": [
      "numbers = (avg loss 4.685021787494808 avgval 5.097442770004273 bestval 5.097449175516764)\n",
      "patience reset\n"
     ]
    },
    {
     "name": "stderr",
     "output_type": "stream",
     "text": [
      " 83%|███████████████████████████████████████████████████████████████████████████████████████████████████████████████████████████████████████████▋                             | 62/75 [16:16<03:29, 16.14s/it]"
     ]
    },
    {
     "name": "stdout",
     "output_type": "stream",
     "text": [
      "numbers = (avg loss 4.684207262930932 avgval 5.097433408101399 bestval 5.097442770004273)\n",
      "patience reset\n"
     ]
    },
    {
     "name": "stderr",
     "output_type": "stream",
     "text": [
      " 84%|█████████████████████████████████████████████████████████████████████████████████████████████████████████████████████████████████████████████▉                           | 63/75 [16:32<03:13, 16.13s/it]"
     ]
    },
    {
     "name": "stdout",
     "output_type": "stream",
     "text": [
      "numbers = (avg loss 4.684561621059071 avgval 5.097425699234009 bestval 5.097433408101399)\n",
      "patience reset\n"
     ]
    },
    {
     "name": "stderr",
     "output_type": "stream",
     "text": [
      " 85%|████████████████████████████████████████████████████████████████████████████████████████████████████████████████████████████████████████████████▏                        | 64/75 [16:48<02:57, 16.12s/it]"
     ]
    },
    {
     "name": "stdout",
     "output_type": "stream",
     "text": [
      "numbers = (avg loss 4.684292814948342 avgval 5.09741792678833 bestval 5.097425699234009)\n",
      "patience reset\n"
     ]
    },
    {
     "name": "stderr",
     "output_type": "stream",
     "text": [
      " 87%|██████████████████████████████████████████████████████████████████████████████████████████████████████████████████████████████████████████████████▍                      | 65/75 [17:04<02:41, 16.11s/it]"
     ]
    },
    {
     "name": "stdout",
     "output_type": "stream",
     "text": [
      "numbers = (avg loss 4.684019937143697 avgval 5.097416750590006 bestval 5.09741792678833)\n",
      "patience reset\n"
     ]
    },
    {
     "name": "stderr",
     "output_type": "stream",
     "text": [
      " 88%|████████████████████████████████████████████████████████████████████████████████████████████████████████████████████████████████████████████████████▋                    | 66/75 [17:20<02:24, 16.10s/it]"
     ]
    },
    {
     "name": "stdout",
     "output_type": "stream",
     "text": [
      "numbers = (avg loss 4.684229541134525 avgval 5.097417179743449 bestval 5.097416750590006)\n",
      "patience counted increased\n"
     ]
    },
    {
     "name": "stderr",
     "output_type": "stream",
     "text": [
      " 89%|██████████████████████████████████████████████████████████████████████████████████████████████████████████████████████████████████████████████████████▉                  | 67/75 [17:37<02:09, 16.14s/it]"
     ]
    },
    {
     "name": "stdout",
     "output_type": "stream",
     "text": [
      "numbers = (avg loss 4.6843937867647645 avgval 5.097418149312337 bestval 5.097416750590006)\n",
      "patience counted increased\n"
     ]
    },
    {
     "name": "stderr",
     "output_type": "stream",
     "text": [
      " 91%|█████████████████████████████████████████████████████████████████████████████████████████████████████████████████████████████████████████████████████████▏               | 68/75 [17:53<01:52, 16.14s/it]"
     ]
    },
    {
     "name": "stdout",
     "output_type": "stream",
     "text": [
      "numbers = (avg loss 4.68434197252447 avgval 5.09741849899292 bestval 5.097416750590006)\n",
      "patience counted increased\n"
     ]
    },
    {
     "name": "stderr",
     "output_type": "stream",
     "text": [
      " 92%|███████████████████████████████████████████████████████████████████████████████████████████████████████████████████████████████████████████████████████████▍             | 69/75 [18:09<01:36, 16.15s/it]"
     ]
    },
    {
     "name": "stdout",
     "output_type": "stream",
     "text": [
      "numbers = (avg loss 4.683610761320436 avgval 5.097418705622355 bestval 5.097416750590006)\n",
      "patience counted increased\n"
     ]
    },
    {
     "name": "stderr",
     "output_type": "stream",
     "text": [
      " 92%|███████████████████████████████████████████████████████████████████████████████████████████████████████████████████████████████████████████████████████████▍             | 69/75 [18:25<01:36, 16.02s/it]"
     ]
    },
    {
     "name": "stdout",
     "output_type": "stream",
     "text": [
      "numbers = (avg loss 4.683826805709244 avgval 5.097419277826945 bestval 5.097416750590006)\n",
      "patience counted increased\n",
      "not patience anymore. early stopping\n"
     ]
    },
    {
     "name": "stderr",
     "output_type": "stream",
     "text": [
      "\n"
     ]
    }
   ],
   "source": [
    "training_loss, validation_loss = model.reps(trainkit)"
   ]
  },
  {
   "cell_type": "code",
   "execution_count": 9,
   "id": "42093236-4244-4197-a11d-030badb4e1a2",
   "metadata": {},
   "outputs": [],
   "source": [
    "import matplotlib as plt\n",
    "import matplotlib.pyplot as plt"
   ]
  },
  {
   "cell_type": "code",
   "execution_count": 10,
   "id": "8a55f960-6f41-4197-a8e5-8a853c922c6b",
   "metadata": {},
   "outputs": [
    {
     "data": {
      "text/plain": [
       "<matplotlib.legend.Legend at 0x7aaf77f146b0>"
      ]
     },
     "execution_count": 10,
     "metadata": {},
     "output_type": "execute_result"
    },
    {
     "data": {
      "image/png": "[encoded data removed]",
      "text/plain": [
       "<Figure size 640x480 with 1 Axes>"
      ]
     },
     "metadata": {},
     "output_type": "display_data"
    }
   ],
   "source": [
    "plt.plot(training_loss, color='b', label='Training')\n",
    "plt.plot(validation_loss, color='r', label=\"Validation\")\n",
    "plt.title(\"Loss Curve\", size=16)\n",
    "plt.legend()"
   ]
  },
  {
   "cell_type": "code",
   "execution_count": 6,
   "id": "6969281a-6e52-40bb-968d-cfd881454351",
   "metadata": {},
   "outputs": [
    {
     "data": {
      "text/plain": [
       "<All keys matched successfully>"
      ]
     },
     "execution_count": 6,
     "metadata": {},
     "output_type": "execute_result"
    }
   ],
   "source": [
    "model.load_state_dict(torch.load('./good/model_20250409_203540_transformer.torch'))"
   ]
  },
  {
   "cell_type": "code",
   "execution_count": 8,
   "id": "9bc0b601-b149-4c03-9cbc-b75111f2da5c",
   "metadata": {},
   "outputs": [
    {
     "name": "stdout",
     "output_type": "stream",
     "text": [
      "perplexity 163.53634336973013\n",
      "yes, the whole of the same time. but he had a little, and a man who was, and he is not the door of the old man, and a great dealing his eyes, but the other of the same time he would have\n"
     ]
    }
   ],
   "source": [
    "model.eval()\n",
    "ppl = evaluate_perplexity(model, metrics['perp'], test_loader, device)\n",
    "print(\"perplexity\", ppl)\n",
    "\n",
    "#        bleu = evaluate_perplexity(model, metrics['bleu'], test_loader, device) \n",
    "#        print(\"bleu\", bleu)\n",
    "\n",
    "print(model.prompt('Which do you prefer? Dogs or cats?'))"
   ]
  },
  {
   "cell_type": "code",
   "execution_count": null,
   "id": "02ccc234-9fc5-4075-ad9c-6c397d5d93a9",
   "metadata": {},
   "outputs": [],
   "source": [
    "print(model.prompt('Who is Alice?'))"
   ]
  }
 ],
 "metadata": {
  "kernelspec": {
   "display_name": "Python 3 (ipykernel)",
   "language": "python",
   "name": "python3"
  },
  "language_info": {
   "codemirror_mode": {
    "name": "ipython",
    "version": 3
   },
   "file_extension": ".py",
   "mimetype": "text/x-python",
   "name": "python",
   "nbconvert_exporter": "python",
   "pygments_lexer": "ipython3",
   "version": "3.12.3"
  }
 },
 "nbformat": 4,
 "nbformat_minor": 5
}
