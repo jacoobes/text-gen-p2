{
 "cells": [
  {
   "cell_type": "code",
   "execution_count": 1,
   "id": "00a72ba4-31c9-4d26-a705-64bc63cbbadf",
   "metadata": {},
   "outputs": [],
   "source": [
    "import io\n",
    "#npx degit jghawaly/CSC7809_FoundationModels/Project2/data/raw raw/                             \n",
    "import os, glob\n",
    "from typing import Tuple\n",
    "import numpy as np\n",
    "import torch\n",
    "import numpy as np\n",
    "from functools import reduce\n",
    "import sentencepiece as spm\n",
    "import torch\n",
    "from torch.utils.data import Dataset, DataLoader\n",
    "from torch.autograd import Variable\n",
    "from torch.nn import CrossEntropyLoss\n",
    "from torch.optim import AdamW, lr_scheduler\n",
    "from torcheval.metrics.metric import Metric\n",
    "from torcheval.metrics.text import Perplexity, BLEUScore\n",
    "import json\n",
    "from tqdm import tqdm\n",
    "from datetime import datetime\n",
    "from word_prediction import TokenizedDataset, read_jsonl, add_special_token, training_kit, mkcollation, evaluate_perplexity\n",
    "from models import TransformerModel"
   ]
  },
  {
   "cell_type": "code",
   "execution_count": 2,
   "id": "4ccbc643-a9cf-42de-a309-1c0249c3903f",
   "metadata": {},
   "outputs": [],
   "source": [
    "tokenizer_location = \"bptokenizer.model\"\n",
    "training_data = read_jsonl('./data/train.jsonl')\n",
    "testing_data = read_jsonl('./data/test.jsonl')\n",
    "sp = spm.SentencePieceProcessor(tokenizer_location)\n",
    "\n",
    "embed_dim=128\n",
    "output_size=sp.GetPieceSize()\n",
    "feedforward_size=512\n",
    "batch_size=64\n",
    "seq_len = 45  # Length of the input sequence\n"
   ]
  },
  {
   "cell_type": "code",
   "execution_count": 3,
   "id": "ce715cb4-2343-43e8-ac28-e774e6ad6b47",
   "metadata": {},
   "outputs": [
    {
     "name": "stdout",
     "output_type": "stream",
     "text": [
      "torch cuda is_available\n"
     ]
    }
   ],
   "source": [
    "\n",
    "if torch.cuda.is_available():\n",
    "    print('torch cuda is_available')\n",
    "    device = torch.device('cuda')          # Use GPU\n",
    "else:\n",
    "    print('torch cuda not is_available')\n",
    "    device = torch.device('cpu')           # Use CPU\n",
    "    \n",
    "metrics = {\n",
    "    'perp': Perplexity(ignore_index=sp.pad_id()).to(device),\n",
    "    'bleu': BLEUScore(n_gram=3).to(device)\n",
    "}"
   ]
  },
  {
   "cell_type": "code",
   "execution_count": 4,
   "id": "57ec8ee5-90f0-4ed3-9d87-a67ed25b89d1",
   "metadata": {},
   "outputs": [],
   "source": [
    "collation = mkcollation(sp.pad_id())\n",
    " \n",
    "training_loader = DataLoader(\n",
    "    TokenizedDataset(training_data, sp, seq_len),\n",
    "    batch_size=batch_size,\n",
    "    shuffle=True,\n",
    "    drop_last=True,\n",
    "\n",
    "    collate_fn=collation\n",
    ") \n",
    "valset, testset = torch.utils.data.random_split(TokenizedDataset(testing_data, sp, seq_len), [.8, .2])\n",
    "validation_loader = DataLoader(\n",
    "    valset,\n",
    "    drop_last=True,\n",
    "    shuffle=False,\n",
    "    batch_size=batch_size,\n",
    "    collate_fn=collation\n",
    ")\n",
    "\n",
    "test_loader = DataLoader(\n",
    "    testset,\n",
    "    shuffle=False,\n",
    "    drop_last=True,\n",
    "    batch_size=batch_size,\n",
    "    collate_fn=collation\n",
    ")"
   ]
  },
  {
   "cell_type": "code",
   "execution_count": 5,
   "id": "105a71fe-efae-4253-8d7a-3791641df33d",
   "metadata": {},
   "outputs": [],
   "source": [
    "model = TransformerModel(\n",
    "        feedforward_size=feedforward_size,\n",
    "        embed_dim=embed_dim,\n",
    "        output_size=output_size,\n",
    "        batch_size=batch_size,\n",
    "        sequence_length=seq_len,\n",
    "        device=device,\n",
    "        tokenizer=sp,\n",
    "        name=\"transformer\"\n",
    ").to(device)\n",
    "trainkit = training_kit(params=model.parameters(),\n",
    "                        lr=0.001,\n",
    "                        weight_decay=0.01,\n",
    "                        epochs=30,\n",
    "                        dataloader=training_loader,\n",
    "                        valloader=validation_loader,\n",
    "                        batch_size=batch_size)"
   ]
  },
  {
   "cell_type": "code",
   "execution_count": 6,
   "id": "bd16e0dd-7c2d-43bb-9d57-f87f42242e29",
   "metadata": {},
   "outputs": [
    {
     "name": "stderr",
     "output_type": "stream",
     "text": [
      "  3%|█████▋                                                                                                                                                                    | 1/30 [00:09<04:23,  9.07s/it]"
     ]
    },
    {
     "name": "stdout",
     "output_type": "stream",
     "text": [
      "numbers = (avg loss 6.296646811815528 avgval 5.74029839135767 bestval 1000000.0)\n",
      "patience reset\n"
     ]
    },
    {
     "name": "stderr",
     "output_type": "stream",
     "text": [
      "  7%|███████████▎                                                                                                                                                              | 2/30 [00:23<05:40, 12.15s/it]"
     ]
    },
    {
     "name": "stdout",
     "output_type": "stream",
     "text": [
      "numbers = (avg loss 5.585675318264267 avgval 5.487305071295761 bestval 5.74029839135767)\n",
      "patience reset\n"
     ]
    },
    {
     "name": "stderr",
     "output_type": "stream",
     "text": [
      " 10%|█████████████████                                                                                                                                                         | 3/30 [00:38<05:58, 13.28s/it]"
     ]
    },
    {
     "name": "stdout",
     "output_type": "stream",
     "text": [
      "numbers = (avg loss 5.375486120051165 avgval 5.3626865720361225 bestval 5.487305071295761)\n",
      "patience reset\n"
     ]
    },
    {
     "name": "stderr",
     "output_type": "stream",
     "text": [
      " 13%|██████████████████████▋                                                                                                                                                   | 4/30 [00:53<06:03, 13.97s/it]"
     ]
    },
    {
     "name": "stdout",
     "output_type": "stream",
     "text": [
      "numbers = (avg loss 5.2565548967775015 avgval 5.289717480419128 bestval 5.3626865720361225)\n",
      "patience reset\n"
     ]
    },
    {
     "name": "stderr",
     "output_type": "stream",
     "text": [
      " 17%|████████████████████████████▎                                                                                                                                             | 5/30 [01:07<05:51, 14.08s/it]"
     ]
    },
    {
     "name": "stdout",
     "output_type": "stream",
     "text": [
      "numbers = (avg loss 5.178762237616727 avgval 5.242604872075523 bestval 5.289717480419128)\n",
      "patience reset\n"
     ]
    },
    {
     "name": "stderr",
     "output_type": "stream",
     "text": [
      " 20%|██████████████████████████████████                                                                                                                                        | 6/30 [01:16<04:56, 12.37s/it]"
     ]
    },
    {
     "name": "stdout",
     "output_type": "stream",
     "text": [
      "numbers = (avg loss 5.1244886654480375 avgval 5.210747800222257 bestval 5.242604872075523)\n",
      "patience reset\n"
     ]
    },
    {
     "name": "stderr",
     "output_type": "stream",
     "text": [
      " 23%|███████████████████████████████████████▋                                                                                                                                  | 7/30 [01:25<04:20, 11.30s/it]"
     ]
    },
    {
     "name": "stdout",
     "output_type": "stream",
     "text": [
      "numbers = (avg loss 5.083241580759437 avgval 5.188111875115371 bestval 5.210747800222257)\n",
      "patience reset\n"
     ]
    },
    {
     "name": "stderr",
     "output_type": "stream",
     "text": [
      " 27%|█████████████████████████████████████████████▎                                                                                                                            | 8/30 [01:34<03:53, 10.60s/it]"
     ]
    },
    {
     "name": "stdout",
     "output_type": "stream",
     "text": [
      "numbers = (avg loss 5.051468888532768 avgval 5.171616980699989 bestval 5.188111875115371)\n",
      "patience reset\n"
     ]
    },
    {
     "name": "stderr",
     "output_type": "stream",
     "text": [
      " 30%|███████████████████████████████████████████████████                                                                                                                       | 9/30 [01:43<03:32, 10.12s/it]"
     ]
    },
    {
     "name": "stdout",
     "output_type": "stream",
     "text": [
      "numbers = (avg loss 5.025025273603915 avgval 5.158373479920674 bestval 5.171616980699989)\n",
      "patience reset\n"
     ]
    },
    {
     "name": "stderr",
     "output_type": "stream",
     "text": [
      " 33%|████████████████████████████████████████████████████████▎                                                                                                                | 10/30 [01:52<03:16,  9.80s/it]"
     ]
    },
    {
     "name": "stdout",
     "output_type": "stream",
     "text": [
      "numbers = (avg loss 5.0029016559563795 avgval 5.147626694624986 bestval 5.158373479920674)\n",
      "patience reset\n"
     ]
    },
    {
     "name": "stderr",
     "output_type": "stream",
     "text": [
      " 37%|█████████████████████████████████████████████████████████████▉                                                                                                           | 11/30 [02:05<03:23, 10.70s/it]"
     ]
    },
    {
     "name": "stdout",
     "output_type": "stream",
     "text": [
      "numbers = (avg loss 4.984327955153382 avgval 5.13900428865014 bestval 5.147626694624986)\n",
      "patience reset\n"
     ]
    },
    {
     "name": "stderr",
     "output_type": "stream",
     "text": [
      " 40%|███████████████████████████████████████████████████████████████████▌                                                                                                     | 12/30 [02:19<03:29, 11.66s/it]"
     ]
    },
    {
     "name": "stdout",
     "output_type": "stream",
     "text": [
      "numbers = (avg loss 4.967950465223936 avgval 5.13272307171085 bestval 5.13900428865014)\n",
      "patience reset\n"
     ]
    },
    {
     "name": "stderr",
     "output_type": "stream",
     "text": [
      " 43%|█████████████████████████████████████████████████████████████████████████▏                                                                                               | 13/30 [02:31<03:19, 11.75s/it]"
     ]
    },
    {
     "name": "stdout",
     "output_type": "stream",
     "text": [
      "numbers = (avg loss 4.953374617308089 avgval 5.126094872389382 bestval 5.13272307171085)\n",
      "patience reset\n"
     ]
    },
    {
     "name": "stderr",
     "output_type": "stream",
     "text": [
      " 47%|██████████████████████████████████████████████████████████████████████████████▊                                                                                          | 14/30 [02:40<02:55, 10.94s/it]"
     ]
    },
    {
     "name": "stdout",
     "output_type": "stream",
     "text": [
      "numbers = (avg loss 4.940779119633548 avgval 5.1217423880972515 bestval 5.126094872389382)\n",
      "patience reset\n"
     ]
    },
    {
     "name": "stderr",
     "output_type": "stream",
     "text": [
      " 50%|████████████████████████████████████████████████████████████████████████████████████▌                                                                                    | 15/30 [02:49<02:35, 10.37s/it]"
     ]
    },
    {
     "name": "stdout",
     "output_type": "stream",
     "text": [
      "numbers = (avg loss 4.929308826483569 avgval 5.1171861586531975 bestval 5.1217423880972515)\n",
      "patience reset\n"
     ]
    },
    {
     "name": "stderr",
     "output_type": "stream",
     "text": [
      " 53%|██████████████████████████████████████████████████████████████████████████████████████████▏                                                                              | 16/30 [02:58<02:19,  9.97s/it]"
     ]
    },
    {
     "name": "stdout",
     "output_type": "stream",
     "text": [
      "numbers = (avg loss 4.918080142400797 avgval 5.113593120885089 bestval 5.1171861586531975)\n",
      "patience reset\n"
     ]
    },
    {
     "name": "stderr",
     "output_type": "stream",
     "text": [
      " 57%|███████████████████████████████████████████████████████████████████████████████████████████████▊                                                                         | 17/30 [03:07<02:06,  9.69s/it]"
     ]
    },
    {
     "name": "stdout",
     "output_type": "stream",
     "text": [
      "numbers = (avg loss 4.908277326417201 avgval 5.111283197635558 bestval 5.113593120885089)\n",
      "patience reset\n"
     ]
    },
    {
     "name": "stderr",
     "output_type": "stream",
     "text": [
      " 60%|█████████████████████████████████████████████████████████████████████████████████████████████████████▍                                                                   | 18/30 [03:16<01:53,  9.50s/it]"
     ]
    },
    {
     "name": "stdout",
     "output_type": "stream",
     "text": [
      "numbers = (avg loss 4.89894138339268 avgval 5.108118475937262 bestval 5.111283197635558)\n",
      "patience reset\n"
     ]
    },
    {
     "name": "stderr",
     "output_type": "stream",
     "text": [
      " 63%|███████████████████████████████████████████████████████████████████████████████████████████████████████████                                                              | 19/30 [03:25<01:43,  9.38s/it]"
     ]
    },
    {
     "name": "stdout",
     "output_type": "stream",
     "text": [
      "numbers = (avg loss 4.891012944064094 avgval 5.1071696281433105 bestval 5.108118475937262)\n",
      "patience reset\n"
     ]
    },
    {
     "name": "stderr",
     "output_type": "stream",
     "text": [
      " 67%|████████████████████████████████████████████████████████████████████████████████████████████████████████████████▋                                                        | 20/30 [03:34<01:32,  9.28s/it]"
     ]
    },
    {
     "name": "stdout",
     "output_type": "stream",
     "text": [
      "numbers = (avg loss 4.882684018619623 avgval 5.105132568173293 bestval 5.1071696281433105)\n",
      "patience reset\n"
     ]
    },
    {
     "name": "stderr",
     "output_type": "stream",
     "text": [
      " 70%|██████████████████████████████████████████████████████████████████████████████████████████████████████████████████████▎                                                  | 21/30 [03:43<01:22,  9.22s/it]"
     ]
    },
    {
     "name": "stdout",
     "output_type": "stream",
     "text": [
      "numbers = (avg loss 4.875942591324593 avgval 5.103848724830441 bestval 5.105132568173293)\n",
      "patience reset\n"
     ]
    },
    {
     "name": "stderr",
     "output_type": "stream",
     "text": [
      " 73%|███████████████████████████████████████████████████████████████████████████████████████████████████████████████████████████▉                                             | 22/30 [03:52<01:13,  9.18s/it]"
     ]
    },
    {
     "name": "stdout",
     "output_type": "stream",
     "text": [
      "numbers = (avg loss 4.868936865075121 avgval 5.102336100446499 bestval 5.103848724830441)\n",
      "patience reset\n"
     ]
    },
    {
     "name": "stderr",
     "output_type": "stream",
     "text": [
      " 77%|█████████████████████████████████████████████████████████████████████████████████████████████████████████████████████████████████▌                                       | 23/30 [04:01<01:04,  9.15s/it]"
     ]
    },
    {
     "name": "stdout",
     "output_type": "stream",
     "text": [
      "numbers = (avg loss 4.862433392638914 avgval 5.101606966034184 bestval 5.102336100446499)\n",
      "patience reset\n"
     ]
    },
    {
     "name": "stderr",
     "output_type": "stream",
     "text": [
      " 80%|███████████████████████████████████████████████████████████████████████████████████████████████████████████████████████████████████████▏                                 | 24/30 [04:10<00:54,  9.13s/it]"
     ]
    },
    {
     "name": "stdout",
     "output_type": "stream",
     "text": [
      "numbers = (avg loss 4.8561311632298345 avgval 5.098629943723601 bestval 5.101606966034184)\n",
      "patience reset\n"
     ]
    },
    {
     "name": "stderr",
     "output_type": "stream",
     "text": [
      " 83%|████████████████████████████████████████████████████████████████████████████████████████████████████████████████████████████████████████████▊                            | 25/30 [04:20<00:45,  9.11s/it]"
     ]
    },
    {
     "name": "stdout",
     "output_type": "stream",
     "text": [
      "numbers = (avg loss 4.850478165358016 avgval 5.09938115220729 bestval 5.098629943723601)\n",
      "patience counted increased\n"
     ]
    },
    {
     "name": "stderr",
     "output_type": "stream",
     "text": [
      " 87%|██████████████████████████████████████████████████████████████████████████████████████████████████████████████████████████████████████████████████▍                      | 26/30 [04:29<00:36,  9.10s/it]"
     ]
    },
    {
     "name": "stdout",
     "output_type": "stream",
     "text": [
      "numbers = (avg loss 4.8448995926619345 avgval 5.098051218482537 bestval 5.098629943723601)\n",
      "patience reset\n"
     ]
    },
    {
     "name": "stderr",
     "output_type": "stream",
     "text": [
      " 90%|████████████████████████████████████████████████████████████████████████████████████████████████████████████████████████████████████████████████████████                 | 27/30 [04:38<00:27,  9.12s/it]"
     ]
    },
    {
     "name": "stdout",
     "output_type": "stream",
     "text": [
      "numbers = (avg loss 4.84032973425288 avgval 5.098211389246995 bestval 5.098051218482537)\n",
      "patience counted increased\n"
     ]
    },
    {
     "name": "stderr",
     "output_type": "stream",
     "text": [
      " 93%|█████████████████████████████████████████████████████████████████████████████████████████████████████████████████████████████████████████████████████████████▋           | 28/30 [04:54<00:22, 11.35s/it]"
     ]
    },
    {
     "name": "stdout",
     "output_type": "stream",
     "text": [
      "numbers = (avg loss 4.834786780057987 avgval 5.097263948704169 bestval 5.098051218482537)\n",
      "patience reset\n"
     ]
    },
    {
     "name": "stderr",
     "output_type": "stream",
     "text": [
      " 97%|███████████████████████████████████████████████████████████████████████████████████████████████████████████████████████████████████████████████████████████████████▎     | 29/30 [05:09<00:12, 12.44s/it]"
     ]
    },
    {
     "name": "stdout",
     "output_type": "stream",
     "text": [
      "numbers = (avg loss 4.830218895353545 avgval 5.095992518634331 bestval 5.097263948704169)\n",
      "patience reset\n"
     ]
    },
    {
     "name": "stderr",
     "output_type": "stream",
     "text": [
      "100%|█████████████████████████████████████████████████████████████████████████████████████████████████████████████████████████████████████████████████████████████████████████| 30/30 [05:19<00:00, 10.63s/it]"
     ]
    },
    {
     "name": "stdout",
     "output_type": "stream",
     "text": [
      "numbers = (avg loss 4.82565021129102 avgval 5.096548685213414 bestval 5.095992518634331)\n",
      "patience counted increased\n"
     ]
    },
    {
     "name": "stderr",
     "output_type": "stream",
     "text": [
      "\n"
     ]
    }
   ],
   "source": [
    "training_loss, validation_loss = model.reps(trainkit)"
   ]
  },
  {
   "cell_type": "code",
   "execution_count": 7,
   "id": "42093236-4244-4197-a11d-030badb4e1a2",
   "metadata": {},
   "outputs": [],
   "source": [
    "import matplotlib as plt\n",
    "import matplotlib.pyplot as plt"
   ]
  },
  {
   "cell_type": "code",
   "execution_count": 8,
   "id": "8a55f960-6f41-4197-a8e5-8a853c922c6b",
   "metadata": {},
   "outputs": [
    {
     "data": {
      "text/plain": [
       "<matplotlib.legend.Legend at 0x7c2c8cfdd0d0>"
      ]
     },
     "execution_count": 8,
     "metadata": {},
     "output_type": "execute_result"
    },
    {
     "data": {
      "image/png": "[encoded data removed]",
      "text/plain": [
       "<Figure size 640x480 with 1 Axes>"
      ]
     },
     "metadata": {},
     "output_type": "display_data"
    }
   ],
   "source": [
    "plt.plot(training_loss, color='b', label='Training')\n",
    "plt.plot(validation_loss, color='r', label=\"Validation\")\n",
    "plt.title(\"Loss Curve\", size=16)\n",
    "plt.legend()"
   ]
  },
  {
   "cell_type": "code",
   "execution_count": 9,
   "id": "9bc0b601-b149-4c03-9cbc-b75111f2da5c",
   "metadata": {},
   "outputs": [
    {
     "name": "stdout",
     "output_type": "stream",
     "text": [
      "yes, the old, he was a very goodbye to be a great, and in the other; and in his face, and the other. the man who, but it was, he had been the first of the door, the old man\n"
     ]
    }
   ],
   "source": [
    "# ppl = evaluate_perplexity(model, metrics['perp'], test_loader, device)\n",
    "# print(\"perplexity\", ppl)\n",
    "\n",
    "#        bleu = evaluate_perplexity(model, metrics['bleu'], test_loader, device) \n",
    "#        print(\"bleu\", bleu)\n",
    "\n",
    "print(model.prompt('Alice?', argm=False))"
   ]
  },
  {
   "cell_type": "code",
   "execution_count": null,
   "id": "02ccc234-9fc5-4075-ad9c-6c397d5d93a9",
   "metadata": {},
   "outputs": [],
   "source": []
  }
 ],
 "metadata": {
  "kernelspec": {
   "display_name": "Python 3 (ipykernel)",
   "language": "python",
   "name": "python3"
  },
  "language_info": {
   "codemirror_mode": {
    "name": "ipython",
    "version": 3
   },
   "file_extension": ".py",
   "mimetype": "text/x-python",
   "name": "python",
   "nbconvert_exporter": "python",
   "pygments_lexer": "ipython3",
   "version": "3.12.3"
  }
 },
 "nbformat": 4,
 "nbformat_minor": 5
}
